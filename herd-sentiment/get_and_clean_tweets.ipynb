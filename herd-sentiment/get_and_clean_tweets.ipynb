{
 "cells": [
  {
   "cell_type": "markdown",
   "metadata": {},
   "source": [
    "### Import Libraries"
   ]
  },
  {
   "cell_type": "code",
   "execution_count": 186,
   "metadata": {},
   "outputs": [],
   "source": [
    "# Import twitter dependencies\n",
    "import tweepy\n",
    "from config import *"
   ]
  },
  {
   "cell_type": "code",
   "execution_count": 187,
   "metadata": {},
   "outputs": [],
   "source": [
    "# Import transformation dependencies\n",
    "import pandas as pd\n",
    "from datetime import datetime, date\n",
    "import json\n",
    "import re "
   ]
  },
  {
   "cell_type": "code",
   "execution_count": 188,
   "metadata": {},
   "outputs": [],
   "source": [
    "# For sentiment and subjectivity analysis\n",
    "from textblob import TextBlob"
   ]
  },
  {
   "cell_type": "markdown",
   "metadata": {},
   "source": [
    "# Tweepy Setup"
   ]
  },
  {
   "cell_type": "code",
   "execution_count": 189,
   "metadata": {},
   "outputs": [],
   "source": [
    "# Tweepy Setup\n",
    "auth = tweepy.OAuthHandler(api_key, api_secret_key)\n",
    "auth.set_access_token(access_token, access_token_secret)\n",
    "api = tweepy.API(auth)"
   ]
  },
  {
   "cell_type": "code",
   "execution_count": 248,
   "metadata": {},
   "outputs": [],
   "source": [
    "# Tweepy search parameters\n",
    "search_terms = ['covid+vaccine OR covid-19+vaccine OR pfizer OR pfizer-biontech OR moderna OR astrazeneca OR astra+zeneca -filter:retweets']\n",
    "end_date = date(2021,3,11)\n",
    "max_id ='1370151964881862656'\n",
    "limit = 1500 # this is my 15 minute limit :'( breaks if this becomes 1000\n",
    "\n",
    "# Save files\n",
    "output_csv ='csvs/tw40.csv'\n",
    "output_json ='json/raw40.json'"
   ]
  },
  {
   "cell_type": "markdown",
   "metadata": {},
   "source": [
    "# Functions"
   ]
  },
  {
   "cell_type": "markdown",
   "metadata": {},
   "source": [
    "Collect and save data"
   ]
  },
  {
   "cell_type": "code",
   "execution_count": 249,
   "metadata": {},
   "outputs": [
    {
     "name": "stdout",
     "output_type": "stream",
     "text": [
      "done!\n"
     ]
    }
   ],
   "source": [
    "# Pulls data from api and returns 2 lists:\n",
    "    # one which is parsed for selected variables\n",
    "    # one with all the raw data\n",
    "\n",
    "data = []\n",
    "raw = []\n",
    "tweets = tweepy.Cursor(api.search, location='canada', max_id = max_id, place='canada', lang ='en', q=search_terms, tweet_mode='extended').items(limit)\n",
    "for t in tweets: \n",
    "    tweet ={\n",
    "        'created' :t.created_at,\n",
    "        'id_str' : t.id_str,\n",
    "        'text' : t.full_text,\n",
    "        'user_id' :t.user.id,\n",
    "        'screen_name': t.user.screen_name,\n",
    "        'location': t.user.location,\n",
    "        'followers_count': t.user.followers_count,\n",
    "        'user_favourites_count': t.user.favourites_count,\n",
    "        'time_zone' :t.user.time_zone,\n",
    "        'geo_enabled' :t.user.geo_enabled,\n",
    "        'verified' :t.user.verified,\n",
    "        'status_count': t.user.statuses_count,\n",
    "        'geo':t.geo,\n",
    "        'coords':t.coordinates,\n",
    "        'retweet_count': t.retweet_count,\n",
    "        'tweet_favourite_count' : t.favorite_count\n",
    "    }\n",
    "    # add sorted data to one list \n",
    "    data.append(tweet)\n",
    "    # keep raw data in case I realize later that I've removed something important \n",
    "    raw.append(t)\n",
    "print('done!')"
   ]
  },
  {
   "cell_type": "code",
   "execution_count": 250,
   "metadata": {},
   "outputs": [
    {
     "data": {
      "text/html": [
       "<div>\n",
       "<style scoped>\n",
       "    .dataframe tbody tr th:only-of-type {\n",
       "        vertical-align: middle;\n",
       "    }\n",
       "\n",
       "    .dataframe tbody tr th {\n",
       "        vertical-align: top;\n",
       "    }\n",
       "\n",
       "    .dataframe thead th {\n",
       "        text-align: right;\n",
       "    }\n",
       "</style>\n",
       "<table border=\"1\" class=\"dataframe\">\n",
       "  <thead>\n",
       "    <tr style=\"text-align: right;\">\n",
       "      <th></th>\n",
       "      <th>created</th>\n",
       "      <th>id_str</th>\n",
       "      <th>text</th>\n",
       "      <th>user_id</th>\n",
       "      <th>screen_name</th>\n",
       "      <th>location</th>\n",
       "      <th>followers_count</th>\n",
       "      <th>user_favourites_count</th>\n",
       "      <th>time_zone</th>\n",
       "      <th>geo_enabled</th>\n",
       "      <th>verified</th>\n",
       "      <th>status_count</th>\n",
       "      <th>geo</th>\n",
       "      <th>coords</th>\n",
       "      <th>retweet_count</th>\n",
       "      <th>tweet_favourite_count</th>\n",
       "    </tr>\n",
       "  </thead>\n",
       "  <tbody>\n",
       "    <tr>\n",
       "      <th>1497</th>\n",
       "      <td>2021-03-11 23:10:17</td>\n",
       "      <td>1370150112794718213</td>\n",
       "      <td>RT @donkamion78: 12 Prominent scientists and d...</td>\n",
       "      <td>1134041472989323265</td>\n",
       "      <td>ArcheryAsgard</td>\n",
       "      <td>(United) Kingdom</td>\n",
       "      <td>233</td>\n",
       "      <td>13244</td>\n",
       "      <td>None</td>\n",
       "      <td>False</td>\n",
       "      <td>False</td>\n",
       "      <td>5376</td>\n",
       "      <td>None</td>\n",
       "      <td>None</td>\n",
       "      <td>192</td>\n",
       "      <td>0</td>\n",
       "    </tr>\n",
       "    <tr>\n",
       "      <th>1498</th>\n",
       "      <td>2021-03-11 23:10:17</td>\n",
       "      <td>1370150112773730307</td>\n",
       "      <td>RT @DamionMitch: Professor Denise Edemire Shea...</td>\n",
       "      <td>2518005376</td>\n",
       "      <td>ahongry</td>\n",
       "      <td>Jamaica</td>\n",
       "      <td>54</td>\n",
       "      <td>9740</td>\n",
       "      <td>None</td>\n",
       "      <td>False</td>\n",
       "      <td>False</td>\n",
       "      <td>17679</td>\n",
       "      <td>None</td>\n",
       "      <td>None</td>\n",
       "      <td>4</td>\n",
       "      <td>0</td>\n",
       "    </tr>\n",
       "    <tr>\n",
       "      <th>1499</th>\n",
       "      <td>2021-03-11 23:10:17</td>\n",
       "      <td>1370150112383631360</td>\n",
       "      <td>I hope the Covid vaccine does rewrite my DNA a...</td>\n",
       "      <td>373978358</td>\n",
       "      <td>_KyleTurner</td>\n",
       "      <td>Brooklyn, NY</td>\n",
       "      <td>545</td>\n",
       "      <td>767</td>\n",
       "      <td>None</td>\n",
       "      <td>False</td>\n",
       "      <td>False</td>\n",
       "      <td>2040</td>\n",
       "      <td>None</td>\n",
       "      <td>None</td>\n",
       "      <td>1</td>\n",
       "      <td>10</td>\n",
       "    </tr>\n",
       "  </tbody>\n",
       "</table>\n",
       "</div>"
      ],
      "text/plain": [
       "                 created               id_str  \\\n",
       "1497 2021-03-11 23:10:17  1370150112794718213   \n",
       "1498 2021-03-11 23:10:17  1370150112773730307   \n",
       "1499 2021-03-11 23:10:17  1370150112383631360   \n",
       "\n",
       "                                                   text              user_id  \\\n",
       "1497  RT @donkamion78: 12 Prominent scientists and d...  1134041472989323265   \n",
       "1498  RT @DamionMitch: Professor Denise Edemire Shea...           2518005376   \n",
       "1499  I hope the Covid vaccine does rewrite my DNA a...            373978358   \n",
       "\n",
       "        screen_name          location  followers_count  user_favourites_count  \\\n",
       "1497  ArcheryAsgard  (United) Kingdom              233                  13244   \n",
       "1498        ahongry           Jamaica               54                   9740   \n",
       "1499    _KyleTurner      Brooklyn, NY              545                    767   \n",
       "\n",
       "     time_zone  geo_enabled  verified  status_count   geo coords  \\\n",
       "1497      None        False     False          5376  None   None   \n",
       "1498      None        False     False         17679  None   None   \n",
       "1499      None        False     False          2040  None   None   \n",
       "\n",
       "      retweet_count  tweet_favourite_count  \n",
       "1497            192                      0  \n",
       "1498              4                      0  \n",
       "1499              1                     10  "
      ]
     },
     "execution_count": 250,
     "metadata": {},
     "output_type": "execute_result"
    }
   ],
   "source": [
    "# Add parsed data to dataframe, convert to csv\n",
    "tweets_df = pd.DataFrame(data)\n",
    "\n",
    "# Save raw data to json \n",
    "with open(output_json, 'w') as file:\n",
    "    for resp in raw:\n",
    "        jso = json.dumps(resp._json,sort_keys=True, indent=3)\n",
    "        file.write(jso)\n",
    "tweets_df.tail(3)"
   ]
  },
  {
   "cell_type": "markdown",
   "metadata": {},
   "source": [
    "### Clean tweets"
   ]
  },
  {
   "cell_type": "code",
   "execution_count": 251,
   "metadata": {},
   "outputs": [],
   "source": [
    "# not working when I put these into a function\n",
    "tweets_df = tweets_df.drop_duplicates(subset=['id_str'])\n",
    "tweets_df = tweets_df.dropna(subset=['id_str', 'screen_name'])"
   ]
  },
  {
   "cell_type": "code",
   "execution_count": 252,
   "metadata": {},
   "outputs": [],
   "source": [
    "# Makes tweets more readable \n",
    "def CleanTweets(txt): \n",
    "    # remove @ username \n",
    "    # txt = re.sub(r'@[A-Za-z0-9)]+','', txt)\n",
    "\n",
    "    # remove @ from username\n",
    "    txt = txt.replace('@','')    \n",
    "    \n",
    "    # remove RT    \n",
    "    txt = re.sub(r'RT[\\s]+','',txt)\n",
    "    \n",
    "    # remove # but leave txt\n",
    "    txt = re.sub(r'#','', txt)\n",
    "    \n",
    "    # remove hyperlinks\n",
    "    txt = re.sub(r'https?:\\/\\/\\S+', '', txt)\n",
    "    return txt"
   ]
  },
  {
   "cell_type": "code",
   "execution_count": 253,
   "metadata": {},
   "outputs": [],
   "source": [
    "# Clean the text field \n",
    "tweets_df['text'] = tweets_df['text'].apply(CleanTweets)"
   ]
  },
  {
   "cell_type": "code",
   "execution_count": 254,
   "metadata": {},
   "outputs": [],
   "source": [
    "# to get subjectivity \n",
    "def RateSubjectivity(txt):\n",
    "    return TextBlob(txt).sentiment.subjectivity"
   ]
  },
  {
   "cell_type": "code",
   "execution_count": 255,
   "metadata": {},
   "outputs": [],
   "source": [
    "# to get polarity\n",
    "def RatePolarity(txt):\n",
    "    return TextBlob(txt).sentiment.polarity"
   ]
  },
  {
   "cell_type": "code",
   "execution_count": 256,
   "metadata": {},
   "outputs": [],
   "source": [
    "# add worded sentiment based on polarity score\n",
    "def GetSentiment(num):\n",
    "    if num < 0: \n",
    "        return 'negative' \n",
    "    elif num == 0:\n",
    "        return 'neutral'\n",
    "    else:\n",
    "        return 'positive'"
   ]
  },
  {
   "cell_type": "code",
   "execution_count": 257,
   "metadata": {},
   "outputs": [],
   "source": [
    "# Create Columns\n",
    "def RateTweets(df):\n",
    "    df['Subjectivity'] = df['text'].apply(RateSubjectivity)\n",
    "    df['Polarity'] = df['text'].apply(RatePolarity)\n",
    "    df['Sentiment'] = df['Polarity'].apply(GetSentiment)\n",
    "    return df "
   ]
  },
  {
   "cell_type": "code",
   "execution_count": 258,
   "metadata": {},
   "outputs": [
    {
     "data": {
      "text/html": [
       "<div>\n",
       "<style scoped>\n",
       "    .dataframe tbody tr th:only-of-type {\n",
       "        vertical-align: middle;\n",
       "    }\n",
       "\n",
       "    .dataframe tbody tr th {\n",
       "        vertical-align: top;\n",
       "    }\n",
       "\n",
       "    .dataframe thead th {\n",
       "        text-align: right;\n",
       "    }\n",
       "</style>\n",
       "<table border=\"1\" class=\"dataframe\">\n",
       "  <thead>\n",
       "    <tr style=\"text-align: right;\">\n",
       "      <th></th>\n",
       "      <th>created</th>\n",
       "      <th>id_str</th>\n",
       "      <th>text</th>\n",
       "      <th>user_id</th>\n",
       "      <th>screen_name</th>\n",
       "      <th>location</th>\n",
       "      <th>followers_count</th>\n",
       "      <th>user_favourites_count</th>\n",
       "      <th>time_zone</th>\n",
       "      <th>geo_enabled</th>\n",
       "      <th>verified</th>\n",
       "      <th>status_count</th>\n",
       "      <th>geo</th>\n",
       "      <th>coords</th>\n",
       "      <th>retweet_count</th>\n",
       "      <th>tweet_favourite_count</th>\n",
       "      <th>Subjectivity</th>\n",
       "      <th>Polarity</th>\n",
       "      <th>Sentiment</th>\n",
       "    </tr>\n",
       "  </thead>\n",
       "  <tbody>\n",
       "    <tr>\n",
       "      <th>1497</th>\n",
       "      <td>2021-03-11 23:10:17</td>\n",
       "      <td>1370150112794718213</td>\n",
       "      <td>donkamion78: 12 Prominent scientists and docto...</td>\n",
       "      <td>1134041472989323265</td>\n",
       "      <td>ArcheryAsgard</td>\n",
       "      <td>(United) Kingdom</td>\n",
       "      <td>233</td>\n",
       "      <td>13244</td>\n",
       "      <td>None</td>\n",
       "      <td>False</td>\n",
       "      <td>False</td>\n",
       "      <td>5376</td>\n",
       "      <td>None</td>\n",
       "      <td>None</td>\n",
       "      <td>192</td>\n",
       "      <td>0</td>\n",
       "      <td>0.555556</td>\n",
       "      <td>0.277778</td>\n",
       "      <td>positive</td>\n",
       "    </tr>\n",
       "    <tr>\n",
       "      <th>1498</th>\n",
       "      <td>2021-03-11 23:10:17</td>\n",
       "      <td>1370150112773730307</td>\n",
       "      <td>DamionMitch: Professor Denise Edemire Shearer ...</td>\n",
       "      <td>2518005376</td>\n",
       "      <td>ahongry</td>\n",
       "      <td>Jamaica</td>\n",
       "      <td>54</td>\n",
       "      <td>9740</td>\n",
       "      <td>None</td>\n",
       "      <td>False</td>\n",
       "      <td>False</td>\n",
       "      <td>17679</td>\n",
       "      <td>None</td>\n",
       "      <td>None</td>\n",
       "      <td>4</td>\n",
       "      <td>0</td>\n",
       "      <td>0.500000</td>\n",
       "      <td>0.416667</td>\n",
       "      <td>positive</td>\n",
       "    </tr>\n",
       "    <tr>\n",
       "      <th>1499</th>\n",
       "      <td>2021-03-11 23:10:17</td>\n",
       "      <td>1370150112383631360</td>\n",
       "      <td>I hope the Covid vaccine does rewrite my DNA a...</td>\n",
       "      <td>373978358</td>\n",
       "      <td>_KyleTurner</td>\n",
       "      <td>Brooklyn, NY</td>\n",
       "      <td>545</td>\n",
       "      <td>767</td>\n",
       "      <td>None</td>\n",
       "      <td>False</td>\n",
       "      <td>False</td>\n",
       "      <td>2040</td>\n",
       "      <td>None</td>\n",
       "      <td>None</td>\n",
       "      <td>1</td>\n",
       "      <td>10</td>\n",
       "      <td>0.000000</td>\n",
       "      <td>0.000000</td>\n",
       "      <td>neutral</td>\n",
       "    </tr>\n",
       "  </tbody>\n",
       "</table>\n",
       "</div>"
      ],
      "text/plain": [
       "                 created               id_str  \\\n",
       "1497 2021-03-11 23:10:17  1370150112794718213   \n",
       "1498 2021-03-11 23:10:17  1370150112773730307   \n",
       "1499 2021-03-11 23:10:17  1370150112383631360   \n",
       "\n",
       "                                                   text              user_id  \\\n",
       "1497  donkamion78: 12 Prominent scientists and docto...  1134041472989323265   \n",
       "1498  DamionMitch: Professor Denise Edemire Shearer ...           2518005376   \n",
       "1499  I hope the Covid vaccine does rewrite my DNA a...            373978358   \n",
       "\n",
       "        screen_name          location  followers_count  user_favourites_count  \\\n",
       "1497  ArcheryAsgard  (United) Kingdom              233                  13244   \n",
       "1498        ahongry           Jamaica               54                   9740   \n",
       "1499    _KyleTurner      Brooklyn, NY              545                    767   \n",
       "\n",
       "     time_zone  geo_enabled  verified  status_count   geo coords  \\\n",
       "1497      None        False     False          5376  None   None   \n",
       "1498      None        False     False         17679  None   None   \n",
       "1499      None        False     False          2040  None   None   \n",
       "\n",
       "      retweet_count  tweet_favourite_count  Subjectivity  Polarity Sentiment  \n",
       "1497            192                      0      0.555556  0.277778  positive  \n",
       "1498              4                      0      0.500000  0.416667  positive  \n",
       "1499              1                     10      0.000000  0.000000   neutral  "
      ]
     },
     "execution_count": 258,
     "metadata": {},
     "output_type": "execute_result"
    }
   ],
   "source": [
    "tweets_df = RateTweets(tweets_df)\n",
    "tweets_df.to_csv(output_csv, index=False, encoding='UTF-8')\n",
    "tweets_df.tail(3)"
   ]
  },
  {
   "cell_type": "markdown",
   "metadata": {},
   "source": [
    "# SQLAlchemy\n",
    "### Connecting to a certain other host "
   ]
  },
  {
   "cell_type": "code",
   "execution_count": 5,
   "metadata": {},
   "outputs": [],
   "source": [
    "from sqlalchemy.ext.automap import automap_base\n",
    "from sqlalchemy.orm import Session\n",
    "from sqlalchemy import create_engine"
   ]
  },
  {
   "cell_type": "code",
   "execution_count": 12,
   "metadata": {},
   "outputs": [],
   "source": [
    "engine = create_engine(conn, echo=False)"
   ]
  },
  {
   "cell_type": "code",
   "execution_count": 13,
   "metadata": {},
   "outputs": [],
   "source": [
    "Base = automap_base()\n",
    "Base.prepare(engine, reflect=True)  "
   ]
  },
  {
   "cell_type": "code",
   "execution_count": 14,
   "metadata": {},
   "outputs": [
    {
     "data": {
      "text/plain": [
       "['tw2']"
      ]
     },
     "execution_count": 14,
     "metadata": {},
     "output_type": "execute_result"
    }
   ],
   "source": [
    "# Test connection\n",
    "# it works!!!\n",
    "# not anymore\n",
    "# kill kernal if conn is wrong\n",
    "\n",
    "Base.classes.keys()"
   ]
  },
  {
   "cell_type": "markdown",
   "metadata": {},
   "source": [
    "### Don't run yet\n",
    "Clean up your tweets! "
   ]
  },
  {
   "cell_type": "code",
   "execution_count": 9,
   "metadata": {},
   "outputs": [
    {
     "name": "stdout",
     "output_type": "stream",
     "text": [
      "added!\n"
     ]
    }
   ],
   "source": [
    "_df = pd.read_csv('csvs/tw2.csv')\n",
    "_df.to_sql(name='tw2', con=engine, if_exists='append', index=True)\n",
    "print('added!')"
   ]
  },
  {
   "cell_type": "code",
   "execution_count": null,
   "metadata": {},
   "outputs": [],
   "source": [
    "# session things\n",
    "session = Session(engine)\n",
    "session.close()\n"
   ]
  }
 ],
 "metadata": {
  "kernelspec": {
   "display_name": "Python 3",
   "language": "python",
   "name": "python3"
  },
  "language_info": {
   "codemirror_mode": {
    "name": "ipython",
    "version": 3
   },
   "file_extension": ".py",
   "mimetype": "text/x-python",
   "name": "python",
   "nbconvert_exporter": "python",
   "pygments_lexer": "ipython3",
   "version": "3.8.3"
  }
 },
 "nbformat": 4,
 "nbformat_minor": 4
}

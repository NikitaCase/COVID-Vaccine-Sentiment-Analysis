{
 "cells": [
  {
   "cell_type": "markdown",
   "metadata": {},
   "source": [
    "### Import Libraries"
   ]
  },
  {
   "cell_type": "code",
   "execution_count": 3,
   "metadata": {},
   "outputs": [],
   "source": [
    "# Import twitter dependencies\n",
    "import tweepy\n",
    "from config import *"
   ]
  },
  {
   "cell_type": "code",
   "execution_count": 4,
   "metadata": {},
   "outputs": [],
   "source": [
    "# Import transformation dependencies\n",
    "import pandas as pd\n",
    "from datetime import datetime, date\n",
    "import json\n",
    "import re "
   ]
  },
  {
   "cell_type": "code",
   "execution_count": 5,
   "metadata": {},
   "outputs": [],
   "source": [
    "# For sentiment and subjectivity analysis\n",
    "from textblob import TextBlob"
   ]
  },
  {
   "cell_type": "markdown",
   "metadata": {},
   "source": [
    "# Tweepy Setup"
   ]
  },
  {
   "cell_type": "code",
   "execution_count": 6,
   "metadata": {},
   "outputs": [],
   "source": [
    "# Tweepy Setup\n",
    "auth = tweepy.OAuthHandler(api_key, api_secret_key)\n",
    "auth.set_access_token(access_token, access_token_secret)\n",
    "api = tweepy.API(auth)"
   ]
  },
  {
   "cell_type": "code",
   "execution_count": 148,
   "metadata": {},
   "outputs": [],
   "source": [
    "# Tweepy search parameters\n",
    "search_terms = ['covid+vaccine OR covid-19+vaccine OR pfizer OR pfizer-biontech OR moderna OR astrazeneca OR astra+zeneca -filter:retweets']\n",
    "end_date = date(2021,3,11)\n",
    "max_id ='1370160675713130500'\n",
    "limit = 900 # this is my 15 minute limit :'( breaks if this becomes 1000\n",
    "\n",
    "# Save files\n",
    "output_csv ='csvs/tw32.csv'\n",
    "output_json ='json/raw32.json'"
   ]
  },
  {
   "cell_type": "markdown",
   "metadata": {},
   "source": [
    "# Functions"
   ]
  },
  {
   "cell_type": "markdown",
   "metadata": {},
   "source": [
    "Collect and save data"
   ]
  },
  {
   "cell_type": "code",
   "execution_count": 149,
   "metadata": {},
   "outputs": [
    {
     "name": "stdout",
     "output_type": "stream",
     "text": [
      "done!\n"
     ]
    }
   ],
   "source": [
    "# Pulls data from api and returns 2 lists:\n",
    "    # one which is parsed for selected variables\n",
    "    # one with all the raw data\n",
    "\n",
    "data = []\n",
    "raw = []\n",
    "tweets = tweepy.Cursor(api.search, location='canada', max_id = max_id, place='canada', lang ='en', q=search_terms, tweet_mode='extended').items(limit)\n",
    "for t in tweets: \n",
    "    tweet ={\n",
    "        'created' :t.created_at,\n",
    "        'id_str' : t.id_str,\n",
    "        'text' : t.full_text,\n",
    "        'user_id' :t.user.id,\n",
    "        'screen_name': t.user.screen_name,\n",
    "        'location': t.user.location,\n",
    "        'followers_count': t.user.followers_count,\n",
    "        'user_favourites_count': t.user.favourites_count,\n",
    "        'time_zone' :t.user.time_zone,\n",
    "        'geo_enabled' :t.user.geo_enabled,\n",
    "        'verified' :t.user.verified,\n",
    "        'status_count': t.user.statuses_count,\n",
    "        'geo':t.geo,\n",
    "        'coords':t.coordinates,\n",
    "        'retweet_count': t.retweet_count,\n",
    "        'tweet_favourite_count' : t.favorite_count\n",
    "    }\n",
    "    # add sorted data to one list \n",
    "    data.append(tweet)\n",
    "    # keep raw data in case I realize later that I've removed something important \n",
    "    raw.append(t)\n",
    "print('done!')"
   ]
  },
  {
   "cell_type": "code",
   "execution_count": 150,
   "metadata": {},
   "outputs": [
    {
     "data": {
      "text/html": [
       "<div>\n",
       "<style scoped>\n",
       "    .dataframe tbody tr th:only-of-type {\n",
       "        vertical-align: middle;\n",
       "    }\n",
       "\n",
       "    .dataframe tbody tr th {\n",
       "        vertical-align: top;\n",
       "    }\n",
       "\n",
       "    .dataframe thead th {\n",
       "        text-align: right;\n",
       "    }\n",
       "</style>\n",
       "<table border=\"1\" class=\"dataframe\">\n",
       "  <thead>\n",
       "    <tr style=\"text-align: right;\">\n",
       "      <th></th>\n",
       "      <th>created</th>\n",
       "      <th>id_str</th>\n",
       "      <th>text</th>\n",
       "      <th>user_id</th>\n",
       "      <th>screen_name</th>\n",
       "      <th>location</th>\n",
       "      <th>followers_count</th>\n",
       "      <th>user_favourites_count</th>\n",
       "      <th>time_zone</th>\n",
       "      <th>geo_enabled</th>\n",
       "      <th>verified</th>\n",
       "      <th>status_count</th>\n",
       "      <th>geo</th>\n",
       "      <th>coords</th>\n",
       "      <th>retweet_count</th>\n",
       "      <th>tweet_favourite_count</th>\n",
       "    </tr>\n",
       "  </thead>\n",
       "  <tbody>\n",
       "    <tr>\n",
       "      <th>897</th>\n",
       "      <td>2021-03-11 23:49:25</td>\n",
       "      <td>1370159960944910338</td>\n",
       "      <td>@rick_rampal The Australian #FarRight Governme...</td>\n",
       "      <td>1341246164394364929</td>\n",
       "      <td>JusticeOzzie</td>\n",
       "      <td></td>\n",
       "      <td>1107</td>\n",
       "      <td>8598</td>\n",
       "      <td>None</td>\n",
       "      <td>False</td>\n",
       "      <td>False</td>\n",
       "      <td>12562</td>\n",
       "      <td>None</td>\n",
       "      <td>None</td>\n",
       "      <td>4</td>\n",
       "      <td>17</td>\n",
       "    </tr>\n",
       "    <tr>\n",
       "      <th>898</th>\n",
       "      <td>2021-03-11 23:49:25</td>\n",
       "      <td>1370159960382971909</td>\n",
       "      <td>RT @havivrettiggur: Pfizer CEO hails ‘obsessiv...</td>\n",
       "      <td>38938062</td>\n",
       "      <td>WilliamsXL</td>\n",
       "      <td>Pilot creek, Oregon</td>\n",
       "      <td>2086</td>\n",
       "      <td>7429</td>\n",
       "      <td>None</td>\n",
       "      <td>True</td>\n",
       "      <td>False</td>\n",
       "      <td>71768</td>\n",
       "      <td>None</td>\n",
       "      <td>None</td>\n",
       "      <td>13</td>\n",
       "      <td>0</td>\n",
       "    </tr>\n",
       "    <tr>\n",
       "      <th>899</th>\n",
       "      <td>2021-03-11 23:49:25</td>\n",
       "      <td>1370159960340922368</td>\n",
       "      <td>seems like it’s a side effect reported for flu...</td>\n",
       "      <td>261021720</td>\n",
       "      <td>hotgirlintech</td>\n",
       "      <td>LA • she/her</td>\n",
       "      <td>6177</td>\n",
       "      <td>37383</td>\n",
       "      <td>None</td>\n",
       "      <td>False</td>\n",
       "      <td>False</td>\n",
       "      <td>34641</td>\n",
       "      <td>None</td>\n",
       "      <td>None</td>\n",
       "      <td>0</td>\n",
       "      <td>4</td>\n",
       "    </tr>\n",
       "  </tbody>\n",
       "</table>\n",
       "</div>"
      ],
      "text/plain": [
       "                created               id_str  \\\n",
       "897 2021-03-11 23:49:25  1370159960944910338   \n",
       "898 2021-03-11 23:49:25  1370159960382971909   \n",
       "899 2021-03-11 23:49:25  1370159960340922368   \n",
       "\n",
       "                                                  text              user_id  \\\n",
       "897  @rick_rampal The Australian #FarRight Governme...  1341246164394364929   \n",
       "898  RT @havivrettiggur: Pfizer CEO hails ‘obsessiv...             38938062   \n",
       "899  seems like it’s a side effect reported for flu...            261021720   \n",
       "\n",
       "       screen_name             location  followers_count  \\\n",
       "897   JusticeOzzie                                  1107   \n",
       "898     WilliamsXL  Pilot creek, Oregon             2086   \n",
       "899  hotgirlintech         LA • she/her             6177   \n",
       "\n",
       "     user_favourites_count time_zone  geo_enabled  verified  status_count  \\\n",
       "897                   8598      None        False     False         12562   \n",
       "898                   7429      None         True     False         71768   \n",
       "899                  37383      None        False     False         34641   \n",
       "\n",
       "      geo coords  retweet_count  tweet_favourite_count  \n",
       "897  None   None              4                     17  \n",
       "898  None   None             13                      0  \n",
       "899  None   None              0                      4  "
      ]
     },
     "execution_count": 150,
     "metadata": {},
     "output_type": "execute_result"
    }
   ],
   "source": [
    "# Add parsed data to dataframe, convert to csv\n",
    "tweets_df = pd.DataFrame(data)\n",
    "\n",
    "# Save raw data to json \n",
    "with open(output_json, 'w') as file:\n",
    "    for resp in raw:\n",
    "        jso = json.dumps(resp._json,sort_keys=True, indent=3)\n",
    "        file.write(jso)\n",
    "tweets_df.tail(3)"
   ]
  },
  {
   "cell_type": "markdown",
   "metadata": {},
   "source": [
    "### Clean tweets"
   ]
  },
  {
   "cell_type": "code",
   "execution_count": 151,
   "metadata": {},
   "outputs": [],
   "source": [
    "# not working when I put these into a function\n",
    "tweets_df = tweets_df.drop_duplicates(subset=['id_str'])\n",
    "tweets_df = tweets_df.dropna(subset=['id_str', 'screen_name'])"
   ]
  },
  {
   "cell_type": "code",
   "execution_count": 152,
   "metadata": {},
   "outputs": [],
   "source": [
    "# Makes tweets more readable \n",
    "def CleanTweets(txt): \n",
    "    # remove @ username \n",
    "    # txt = re.sub(r'@[A-Za-z0-9)]+','', txt)\n",
    "\n",
    "    # remove @ from username\n",
    "    txt = txt.replace('@','')    \n",
    "    \n",
    "    # remove RT    \n",
    "    txt = re.sub(r'RT[\\s]+','',txt)\n",
    "    \n",
    "    # remove # but leave txt\n",
    "    txt = re.sub(r'#','', txt)\n",
    "    \n",
    "    # remove hyperlinks\n",
    "    txt = re.sub(r'https?:\\/\\/\\S+', '', txt)\n",
    "    return txt"
   ]
  },
  {
   "cell_type": "code",
   "execution_count": 153,
   "metadata": {},
   "outputs": [],
   "source": [
    "# Clean the text field \n",
    "tweets_df['text'] = tweets_df['text'].apply(CleanTweets)"
   ]
  },
  {
   "cell_type": "code",
   "execution_count": 154,
   "metadata": {},
   "outputs": [],
   "source": [
    "# to get subjectivity \n",
    "def RateSubjectivity(txt):\n",
    "    return TextBlob(txt).sentiment.subjectivity"
   ]
  },
  {
   "cell_type": "code",
   "execution_count": 155,
   "metadata": {},
   "outputs": [],
   "source": [
    "# to get polarity\n",
    "def RatePolarity(txt):\n",
    "    return TextBlob(txt).sentiment.polarity"
   ]
  },
  {
   "cell_type": "code",
   "execution_count": 156,
   "metadata": {},
   "outputs": [],
   "source": [
    "# add worded sentiment based on polarity score\n",
    "def GetSentiment(num):\n",
    "    if num < 0: \n",
    "        return 'negative' \n",
    "    elif num == 0:\n",
    "        return 'neutral'\n",
    "    else:\n",
    "        return 'positive'"
   ]
  },
  {
   "cell_type": "code",
   "execution_count": 157,
   "metadata": {},
   "outputs": [],
   "source": [
    "# Create Columns\n",
    "def RateTweets(df):\n",
    "    df['Subjectivity'] = df['text'].apply(RateSubjectivity)\n",
    "    df['Polarity'] = df['text'].apply(RatePolarity)\n",
    "    df['Sentiment'] = df['Polarity'].apply(GetSentiment)\n",
    "    return df "
   ]
  },
  {
   "cell_type": "code",
   "execution_count": 158,
   "metadata": {},
   "outputs": [
    {
     "data": {
      "text/html": [
       "<div>\n",
       "<style scoped>\n",
       "    .dataframe tbody tr th:only-of-type {\n",
       "        vertical-align: middle;\n",
       "    }\n",
       "\n",
       "    .dataframe tbody tr th {\n",
       "        vertical-align: top;\n",
       "    }\n",
       "\n",
       "    .dataframe thead th {\n",
       "        text-align: right;\n",
       "    }\n",
       "</style>\n",
       "<table border=\"1\" class=\"dataframe\">\n",
       "  <thead>\n",
       "    <tr style=\"text-align: right;\">\n",
       "      <th></th>\n",
       "      <th>created</th>\n",
       "      <th>id_str</th>\n",
       "      <th>text</th>\n",
       "      <th>user_id</th>\n",
       "      <th>screen_name</th>\n",
       "      <th>location</th>\n",
       "      <th>followers_count</th>\n",
       "      <th>user_favourites_count</th>\n",
       "      <th>time_zone</th>\n",
       "      <th>geo_enabled</th>\n",
       "      <th>verified</th>\n",
       "      <th>status_count</th>\n",
       "      <th>geo</th>\n",
       "      <th>coords</th>\n",
       "      <th>retweet_count</th>\n",
       "      <th>tweet_favourite_count</th>\n",
       "      <th>Subjectivity</th>\n",
       "      <th>Polarity</th>\n",
       "      <th>Sentiment</th>\n",
       "    </tr>\n",
       "  </thead>\n",
       "  <tbody>\n",
       "    <tr>\n",
       "      <th>897</th>\n",
       "      <td>2021-03-11 23:49:25</td>\n",
       "      <td>1370159960944910338</td>\n",
       "      <td>rick_rampal The Australian FarRight Government...</td>\n",
       "      <td>1341246164394364929</td>\n",
       "      <td>JusticeOzzie</td>\n",
       "      <td></td>\n",
       "      <td>1107</td>\n",
       "      <td>8598</td>\n",
       "      <td>None</td>\n",
       "      <td>False</td>\n",
       "      <td>False</td>\n",
       "      <td>12562</td>\n",
       "      <td>None</td>\n",
       "      <td>None</td>\n",
       "      <td>4</td>\n",
       "      <td>17</td>\n",
       "      <td>0.519388</td>\n",
       "      <td>0.197959</td>\n",
       "      <td>positive</td>\n",
       "    </tr>\n",
       "    <tr>\n",
       "      <th>898</th>\n",
       "      <td>2021-03-11 23:49:25</td>\n",
       "      <td>1370159960382971909</td>\n",
       "      <td>havivrettiggur: Pfizer CEO hails ‘obsessive’ N...</td>\n",
       "      <td>38938062</td>\n",
       "      <td>WilliamsXL</td>\n",
       "      <td>Pilot creek, Oregon</td>\n",
       "      <td>2086</td>\n",
       "      <td>7429</td>\n",
       "      <td>None</td>\n",
       "      <td>True</td>\n",
       "      <td>False</td>\n",
       "      <td>71768</td>\n",
       "      <td>None</td>\n",
       "      <td>None</td>\n",
       "      <td>13</td>\n",
       "      <td>0</td>\n",
       "      <td>0.000000</td>\n",
       "      <td>0.000000</td>\n",
       "      <td>neutral</td>\n",
       "    </tr>\n",
       "    <tr>\n",
       "      <th>899</th>\n",
       "      <td>2021-03-11 23:49:25</td>\n",
       "      <td>1370159960340922368</td>\n",
       "      <td>seems like it’s a side effect reported for flu...</td>\n",
       "      <td>261021720</td>\n",
       "      <td>hotgirlintech</td>\n",
       "      <td>LA • she/her</td>\n",
       "      <td>6177</td>\n",
       "      <td>37383</td>\n",
       "      <td>None</td>\n",
       "      <td>False</td>\n",
       "      <td>False</td>\n",
       "      <td>34641</td>\n",
       "      <td>None</td>\n",
       "      <td>None</td>\n",
       "      <td>0</td>\n",
       "      <td>4</td>\n",
       "      <td>0.412500</td>\n",
       "      <td>0.350000</td>\n",
       "      <td>positive</td>\n",
       "    </tr>\n",
       "  </tbody>\n",
       "</table>\n",
       "</div>"
      ],
      "text/plain": [
       "                created               id_str  \\\n",
       "897 2021-03-11 23:49:25  1370159960944910338   \n",
       "898 2021-03-11 23:49:25  1370159960382971909   \n",
       "899 2021-03-11 23:49:25  1370159960340922368   \n",
       "\n",
       "                                                  text              user_id  \\\n",
       "897  rick_rampal The Australian FarRight Government...  1341246164394364929   \n",
       "898  havivrettiggur: Pfizer CEO hails ‘obsessive’ N...             38938062   \n",
       "899  seems like it’s a side effect reported for flu...            261021720   \n",
       "\n",
       "       screen_name             location  followers_count  \\\n",
       "897   JusticeOzzie                                  1107   \n",
       "898     WilliamsXL  Pilot creek, Oregon             2086   \n",
       "899  hotgirlintech         LA • she/her             6177   \n",
       "\n",
       "     user_favourites_count time_zone  geo_enabled  verified  status_count  \\\n",
       "897                   8598      None        False     False         12562   \n",
       "898                   7429      None         True     False         71768   \n",
       "899                  37383      None        False     False         34641   \n",
       "\n",
       "      geo coords  retweet_count  tweet_favourite_count  Subjectivity  \\\n",
       "897  None   None              4                     17      0.519388   \n",
       "898  None   None             13                      0      0.000000   \n",
       "899  None   None              0                      4      0.412500   \n",
       "\n",
       "     Polarity Sentiment  \n",
       "897  0.197959  positive  \n",
       "898  0.000000   neutral  \n",
       "899  0.350000  positive  "
      ]
     },
     "execution_count": 158,
     "metadata": {},
     "output_type": "execute_result"
    }
   ],
   "source": [
    "tweets_df = RateTweets(tweets_df)\n",
    "tweets_df.to_csv(output_csv, index=False, encoding='UTF-8')\n",
    "tweets_df.tail(3)"
   ]
  },
  {
   "cell_type": "markdown",
   "metadata": {},
   "source": [
    "# SQLAlchemy\n",
    "### Connecting to a certain other host "
   ]
  },
  {
   "cell_type": "code",
   "execution_count": 5,
   "metadata": {},
   "outputs": [],
   "source": [
    "from sqlalchemy.ext.automap import automap_base\n",
    "from sqlalchemy.orm import Session\n",
    "from sqlalchemy import create_engine"
   ]
  },
  {
   "cell_type": "code",
   "execution_count": 12,
   "metadata": {},
   "outputs": [],
   "source": [
    "engine = create_engine(conn, echo=False)"
   ]
  },
  {
   "cell_type": "code",
   "execution_count": 13,
   "metadata": {},
   "outputs": [],
   "source": [
    "Base = automap_base()\n",
    "Base.prepare(engine, reflect=True)  "
   ]
  },
  {
   "cell_type": "code",
   "execution_count": 14,
   "metadata": {},
   "outputs": [
    {
     "data": {
      "text/plain": [
       "['tw2']"
      ]
     },
     "execution_count": 14,
     "metadata": {},
     "output_type": "execute_result"
    }
   ],
   "source": [
    "# Test connection\n",
    "# it works!!!\n",
    "# not anymore\n",
    "# kill kernal if conn is wrong\n",
    "\n",
    "Base.classes.keys()"
   ]
  },
  {
   "cell_type": "markdown",
   "metadata": {},
   "source": [
    "### Don't run yet\n",
    "Clean up your tweets! "
   ]
  },
  {
   "cell_type": "code",
   "execution_count": 9,
   "metadata": {},
   "outputs": [
    {
     "name": "stdout",
     "output_type": "stream",
     "text": [
      "added!\n"
     ]
    }
   ],
   "source": [
    "_df = pd.read_csv('csvs/tw2.csv')\n",
    "_df.to_sql(name='tw2', con=engine, if_exists='append', index=True)\n",
    "print('added!')"
   ]
  },
  {
   "cell_type": "code",
   "execution_count": null,
   "metadata": {},
   "outputs": [],
   "source": [
    "# session things\n",
    "session = Session(engine)\n",
    "session.close()\n"
   ]
  }
 ],
 "metadata": {
  "kernelspec": {
   "display_name": "Python 3",
   "language": "python",
   "name": "python3"
  },
  "language_info": {
   "codemirror_mode": {
    "name": "ipython",
    "version": 3
   },
   "file_extension": ".py",
   "mimetype": "text/x-python",
   "name": "python",
   "nbconvert_exporter": "python",
   "pygments_lexer": "ipython3",
   "version": "3.8.3"
  }
 },
 "nbformat": 4,
 "nbformat_minor": 4
}

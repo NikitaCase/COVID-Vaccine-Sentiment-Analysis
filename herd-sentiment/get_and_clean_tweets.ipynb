{
 "cells": [
  {
   "cell_type": "markdown",
   "metadata": {},
   "source": [
    "### Import Libraries"
   ]
  },
  {
   "cell_type": "code",
   "execution_count": 1,
   "metadata": {},
   "outputs": [],
   "source": [
    "# Import twitter dependencies\n",
    "import tweepy\n",
    "from config import *"
   ]
  },
  {
   "cell_type": "code",
   "execution_count": 2,
   "metadata": {},
   "outputs": [],
   "source": [
    "# Import transformation dependencies\n",
    "import pandas as pd\n",
    "from datetime import datetime, date\n",
    "import json\n",
    "import re "
   ]
  },
  {
   "cell_type": "code",
   "execution_count": 3,
   "metadata": {},
   "outputs": [],
   "source": [
    "# For sentiment and subjectivity analysis\n",
    "from textblob import TextBlob"
   ]
  },
  {
   "cell_type": "markdown",
   "metadata": {},
   "source": [
    "# Tweepy Setup"
   ]
  },
  {
   "cell_type": "code",
   "execution_count": 4,
   "metadata": {},
   "outputs": [],
   "source": [
    "# Tweepy Setup\n",
    "auth = tweepy.OAuthHandler(api_key, api_secret_key)\n",
    "auth.set_access_token(access_token, access_token_secret)\n",
    "api = tweepy.API(auth)"
   ]
  },
  {
   "cell_type": "code",
   "execution_count": 17,
   "metadata": {},
   "outputs": [],
   "source": [
    "# Tweepy search parameters\n",
    "search_terms = ['covid+vaccine OR covid-19+vaccine OR pfizer OR pfizer-biontech OR moderna OR astrazeneca OR astra+zeneca -filter:retweets']\n",
    "end_date = date(2021,3,11)\n",
    "max_id ='1370180022342926339'\n",
    "limit = 900 # this is my 15 minute limit :'( breaks if this becomes 1000\n",
    "\n",
    "# Save files\n",
    "output_csv ='csvs/tw15.csv'\n",
    "output_json ='json/raw15.json'"
   ]
  },
  {
   "cell_type": "markdown",
   "metadata": {},
   "source": [
    "# Functions"
   ]
  },
  {
   "cell_type": "markdown",
   "metadata": {},
   "source": [
    "Collect and save data"
   ]
  },
  {
   "cell_type": "code",
   "execution_count": 6,
   "metadata": {},
   "outputs": [
    {
     "name": "stdout",
     "output_type": "stream",
     "text": [
      "done!\n"
     ]
    }
   ],
   "source": [
    "# Pulls data from api and returns 2 lists:\n",
    "    # one which is parsed for selected variables\n",
    "    # one with all the raw data\n",
    "\n",
    "data = []\n",
    "raw = []\n",
    "tweets = tweepy.Cursor(api.search, location='canada', max_id = max_id, place='canada', lang ='en', q=search_terms, tweet_mode='extended').items(limit)\n",
    "for t in tweets: \n",
    "    tweet ={\n",
    "        'created' :t.created_at,\n",
    "        'id_str' : t.id_str,\n",
    "        'text' : t.full_text,\n",
    "        'user_id' :t.user.id,\n",
    "        'screen_name': t.user.screen_name,\n",
    "        'location': t.user.location,\n",
    "        'followers_count': t.user.followers_count,\n",
    "        'user_favourites_count': t.user.favourites_count,\n",
    "        'time_zone' :t.user.time_zone,\n",
    "        'geo_enabled' :t.user.geo_enabled,\n",
    "        'verified' :t.user.verified,\n",
    "        'status_count': t.user.statuses_count,\n",
    "        'geo':t.geo,\n",
    "        'coords':t.coordinates,\n",
    "        'retweet_count': t.retweet_count,\n",
    "        'tweet_favourite_count' : t.favorite_count\n",
    "    }\n",
    "    # add sorted data to one list \n",
    "    data.append(tweet)\n",
    "    # keep raw data in case I realize later that I've removed something important \n",
    "    raw.append(t)\n",
    "print('done!')"
   ]
  },
  {
   "cell_type": "code",
   "execution_count": 7,
   "metadata": {},
   "outputs": [
    {
     "data": {
      "text/html": [
       "<div>\n",
       "<style scoped>\n",
       "    .dataframe tbody tr th:only-of-type {\n",
       "        vertical-align: middle;\n",
       "    }\n",
       "\n",
       "    .dataframe tbody tr th {\n",
       "        vertical-align: top;\n",
       "    }\n",
       "\n",
       "    .dataframe thead th {\n",
       "        text-align: right;\n",
       "    }\n",
       "</style>\n",
       "<table border=\"1\" class=\"dataframe\">\n",
       "  <thead>\n",
       "    <tr style=\"text-align: right;\">\n",
       "      <th></th>\n",
       "      <th>created</th>\n",
       "      <th>id_str</th>\n",
       "      <th>text</th>\n",
       "      <th>user_id</th>\n",
       "      <th>screen_name</th>\n",
       "      <th>location</th>\n",
       "      <th>followers_count</th>\n",
       "      <th>user_favourites_count</th>\n",
       "      <th>time_zone</th>\n",
       "      <th>geo_enabled</th>\n",
       "      <th>verified</th>\n",
       "      <th>status_count</th>\n",
       "      <th>geo</th>\n",
       "      <th>coords</th>\n",
       "      <th>retweet_count</th>\n",
       "      <th>tweet_favourite_count</th>\n",
       "    </tr>\n",
       "  </thead>\n",
       "  <tbody>\n",
       "    <tr>\n",
       "      <th>897</th>\n",
       "      <td>2021-03-12 01:09:09</td>\n",
       "      <td>1370180024171700224</td>\n",
       "      <td>RT @davematt88: I talked to somebody in law en...</td>\n",
       "      <td>805570008873058304</td>\n",
       "      <td>SpiritofBellamy</td>\n",
       "      <td></td>\n",
       "      <td>2977</td>\n",
       "      <td>168237</td>\n",
       "      <td>None</td>\n",
       "      <td>False</td>\n",
       "      <td>False</td>\n",
       "      <td>51833</td>\n",
       "      <td>None</td>\n",
       "      <td>None</td>\n",
       "      <td>119</td>\n",
       "      <td>0</td>\n",
       "    </tr>\n",
       "    <tr>\n",
       "      <th>898</th>\n",
       "      <td>2021-03-12 01:09:09</td>\n",
       "      <td>1370180024003932160</td>\n",
       "      <td>RT @engxl: 24hrs since my covid vaccine update...</td>\n",
       "      <td>1426568444</td>\n",
       "      <td>burntpita</td>\n",
       "      <td></td>\n",
       "      <td>326</td>\n",
       "      <td>54205</td>\n",
       "      <td>None</td>\n",
       "      <td>False</td>\n",
       "      <td>False</td>\n",
       "      <td>34440</td>\n",
       "      <td>None</td>\n",
       "      <td>None</td>\n",
       "      <td>7</td>\n",
       "      <td>0</td>\n",
       "    </tr>\n",
       "    <tr>\n",
       "      <th>899</th>\n",
       "      <td>2021-03-12 01:09:08</td>\n",
       "      <td>1370180022342926339</td>\n",
       "      <td>@John74024187 @ferocioussal I read a statement...</td>\n",
       "      <td>1258670574571671553</td>\n",
       "      <td>helloamysnow</td>\n",
       "      <td>California, USA</td>\n",
       "      <td>1999</td>\n",
       "      <td>18198</td>\n",
       "      <td>None</td>\n",
       "      <td>False</td>\n",
       "      <td>False</td>\n",
       "      <td>4103</td>\n",
       "      <td>None</td>\n",
       "      <td>None</td>\n",
       "      <td>0</td>\n",
       "      <td>0</td>\n",
       "    </tr>\n",
       "  </tbody>\n",
       "</table>\n",
       "</div>"
      ],
      "text/plain": [
       "                created               id_str  \\\n",
       "897 2021-03-12 01:09:09  1370180024171700224   \n",
       "898 2021-03-12 01:09:09  1370180024003932160   \n",
       "899 2021-03-12 01:09:08  1370180022342926339   \n",
       "\n",
       "                                                  text              user_id  \\\n",
       "897  RT @davematt88: I talked to somebody in law en...   805570008873058304   \n",
       "898  RT @engxl: 24hrs since my covid vaccine update...           1426568444   \n",
       "899  @John74024187 @ferocioussal I read a statement...  1258670574571671553   \n",
       "\n",
       "         screen_name         location  followers_count  user_favourites_count  \\\n",
       "897  SpiritofBellamy                              2977                 168237   \n",
       "898        burntpita                               326                  54205   \n",
       "899     helloamysnow  California, USA             1999                  18198   \n",
       "\n",
       "    time_zone  geo_enabled  verified  status_count   geo coords  \\\n",
       "897      None        False     False         51833  None   None   \n",
       "898      None        False     False         34440  None   None   \n",
       "899      None        False     False          4103  None   None   \n",
       "\n",
       "     retweet_count  tweet_favourite_count  \n",
       "897            119                      0  \n",
       "898              7                      0  \n",
       "899              0                      0  "
      ]
     },
     "execution_count": 7,
     "metadata": {},
     "output_type": "execute_result"
    }
   ],
   "source": [
    "# Add parsed data to dataframe, convert to csv\n",
    "tweets_df = pd.DataFrame(data)\n",
    "\n",
    "# Save raw data to json \n",
    "with open(output_json, 'w') as file:\n",
    "    for resp in raw:\n",
    "        jso = json.dumps(resp._json,sort_keys=True, indent=3)\n",
    "        file.write(jso)\n",
    "tweets_df.tail(3)"
   ]
  },
  {
   "cell_type": "markdown",
   "metadata": {},
   "source": [
    "### Clean tweets"
   ]
  },
  {
   "cell_type": "code",
   "execution_count": 8,
   "metadata": {},
   "outputs": [],
   "source": [
    "# not working when I put these into a function\n",
    "tweets_df = tweets_df.drop_duplicates(subset=['id_str'])\n",
    "tweets_df = tweets_df.dropna(subset=['id_str', 'screen_name'])"
   ]
  },
  {
   "cell_type": "code",
   "execution_count": 9,
   "metadata": {},
   "outputs": [],
   "source": [
    "# Makes tweets more readable \n",
    "def CleanTweets(txt): \n",
    "    # remove @ username \n",
    "    # txt = re.sub(r'@[A-Za-z0-9)]+','', txt)\n",
    "\n",
    "    # remove @ from username\n",
    "    txt = txt.replace('@','')    \n",
    "    \n",
    "    # remove RT    \n",
    "    txt = re.sub(r'RT[\\s]+','',txt)\n",
    "    \n",
    "    # remove # but leave txt\n",
    "    txt = re.sub(r'#','', txt)\n",
    "    \n",
    "    # remove hyperlinks\n",
    "    txt = re.sub(r'https?:\\/\\/\\S+', '', txt)\n",
    "    return txt"
   ]
  },
  {
   "cell_type": "code",
   "execution_count": 10,
   "metadata": {},
   "outputs": [],
   "source": [
    "# Clean the text field \n",
    "tweets_df['text'] = tweets_df['text'].apply(CleanTweets)"
   ]
  },
  {
   "cell_type": "code",
   "execution_count": 11,
   "metadata": {},
   "outputs": [],
   "source": [
    "# to get subjectivity \n",
    "def RateSubjectivity(txt):\n",
    "    return TextBlob(txt).sentiment.subjectivity"
   ]
  },
  {
   "cell_type": "code",
   "execution_count": 12,
   "metadata": {},
   "outputs": [],
   "source": [
    "# to get polarity\n",
    "def RatePolarity(txt):\n",
    "    return TextBlob(txt).sentiment.polarity"
   ]
  },
  {
   "cell_type": "code",
   "execution_count": 13,
   "metadata": {},
   "outputs": [],
   "source": [
    "# add worded sentiment based on polarity score\n",
    "def GetSentiment(num):\n",
    "    if num < 0: \n",
    "        return 'negative' \n",
    "    elif num == 0:\n",
    "        return 'neutral'\n",
    "    else:\n",
    "        return 'positive'"
   ]
  },
  {
   "cell_type": "code",
   "execution_count": 14,
   "metadata": {},
   "outputs": [],
   "source": [
    "# Create Columns\n",
    "def RateTweets(df):\n",
    "    df['Subjectivity'] = df['text'].apply(RateSubjectivity)\n",
    "    df['Polarity'] = df['text'].apply(RatePolarity)\n",
    "    df['Sentiment'] = df['Polarity'].apply(GetSentiment)\n",
    "    return df "
   ]
  },
  {
   "cell_type": "code",
   "execution_count": 15,
   "metadata": {},
   "outputs": [
    {
     "data": {
      "text/html": [
       "<div>\n",
       "<style scoped>\n",
       "    .dataframe tbody tr th:only-of-type {\n",
       "        vertical-align: middle;\n",
       "    }\n",
       "\n",
       "    .dataframe tbody tr th {\n",
       "        vertical-align: top;\n",
       "    }\n",
       "\n",
       "    .dataframe thead th {\n",
       "        text-align: right;\n",
       "    }\n",
       "</style>\n",
       "<table border=\"1\" class=\"dataframe\">\n",
       "  <thead>\n",
       "    <tr style=\"text-align: right;\">\n",
       "      <th></th>\n",
       "      <th>created</th>\n",
       "      <th>id_str</th>\n",
       "      <th>text</th>\n",
       "      <th>user_id</th>\n",
       "      <th>screen_name</th>\n",
       "      <th>location</th>\n",
       "      <th>followers_count</th>\n",
       "      <th>user_favourites_count</th>\n",
       "      <th>time_zone</th>\n",
       "      <th>geo_enabled</th>\n",
       "      <th>verified</th>\n",
       "      <th>status_count</th>\n",
       "      <th>geo</th>\n",
       "      <th>coords</th>\n",
       "      <th>retweet_count</th>\n",
       "      <th>tweet_favourite_count</th>\n",
       "      <th>Subjectivity</th>\n",
       "      <th>Polarity</th>\n",
       "      <th>Sentiment</th>\n",
       "    </tr>\n",
       "  </thead>\n",
       "  <tbody>\n",
       "    <tr>\n",
       "      <th>897</th>\n",
       "      <td>2021-03-12 01:09:09</td>\n",
       "      <td>1370180024171700224</td>\n",
       "      <td>davematt88: I talked to somebody in law enforc...</td>\n",
       "      <td>805570008873058304</td>\n",
       "      <td>SpiritofBellamy</td>\n",
       "      <td></td>\n",
       "      <td>2977</td>\n",
       "      <td>168237</td>\n",
       "      <td>None</td>\n",
       "      <td>False</td>\n",
       "      <td>False</td>\n",
       "      <td>51833</td>\n",
       "      <td>None</td>\n",
       "      <td>None</td>\n",
       "      <td>119</td>\n",
       "      <td>0</td>\n",
       "      <td>0.40</td>\n",
       "      <td>-0.2</td>\n",
       "      <td>negative</td>\n",
       "    </tr>\n",
       "    <tr>\n",
       "      <th>898</th>\n",
       "      <td>2021-03-12 01:09:09</td>\n",
       "      <td>1370180024003932160</td>\n",
       "      <td>engxl: 24hrs since my covid vaccine update: no...</td>\n",
       "      <td>1426568444</td>\n",
       "      <td>burntpita</td>\n",
       "      <td></td>\n",
       "      <td>326</td>\n",
       "      <td>54205</td>\n",
       "      <td>None</td>\n",
       "      <td>False</td>\n",
       "      <td>False</td>\n",
       "      <td>34440</td>\n",
       "      <td>None</td>\n",
       "      <td>None</td>\n",
       "      <td>7</td>\n",
       "      <td>0</td>\n",
       "      <td>0.35</td>\n",
       "      <td>0.0</td>\n",
       "      <td>neutral</td>\n",
       "    </tr>\n",
       "    <tr>\n",
       "      <th>899</th>\n",
       "      <td>2021-03-12 01:09:08</td>\n",
       "      <td>1370180022342926339</td>\n",
       "      <td>John74024187 ferocioussal I read a statement f...</td>\n",
       "      <td>1258670574571671553</td>\n",
       "      <td>helloamysnow</td>\n",
       "      <td>California, USA</td>\n",
       "      <td>1999</td>\n",
       "      <td>18198</td>\n",
       "      <td>None</td>\n",
       "      <td>False</td>\n",
       "      <td>False</td>\n",
       "      <td>4103</td>\n",
       "      <td>None</td>\n",
       "      <td>None</td>\n",
       "      <td>0</td>\n",
       "      <td>0</td>\n",
       "      <td>0.00</td>\n",
       "      <td>0.0</td>\n",
       "      <td>neutral</td>\n",
       "    </tr>\n",
       "  </tbody>\n",
       "</table>\n",
       "</div>"
      ],
      "text/plain": [
       "                created               id_str  \\\n",
       "897 2021-03-12 01:09:09  1370180024171700224   \n",
       "898 2021-03-12 01:09:09  1370180024003932160   \n",
       "899 2021-03-12 01:09:08  1370180022342926339   \n",
       "\n",
       "                                                  text              user_id  \\\n",
       "897  davematt88: I talked to somebody in law enforc...   805570008873058304   \n",
       "898  engxl: 24hrs since my covid vaccine update: no...           1426568444   \n",
       "899  John74024187 ferocioussal I read a statement f...  1258670574571671553   \n",
       "\n",
       "         screen_name         location  followers_count  user_favourites_count  \\\n",
       "897  SpiritofBellamy                              2977                 168237   \n",
       "898        burntpita                               326                  54205   \n",
       "899     helloamysnow  California, USA             1999                  18198   \n",
       "\n",
       "    time_zone  geo_enabled  verified  status_count   geo coords  \\\n",
       "897      None        False     False         51833  None   None   \n",
       "898      None        False     False         34440  None   None   \n",
       "899      None        False     False          4103  None   None   \n",
       "\n",
       "     retweet_count  tweet_favourite_count  Subjectivity  Polarity Sentiment  \n",
       "897            119                      0          0.40      -0.2  negative  \n",
       "898              7                      0          0.35       0.0   neutral  \n",
       "899              0                      0          0.00       0.0   neutral  "
      ]
     },
     "execution_count": 15,
     "metadata": {},
     "output_type": "execute_result"
    }
   ],
   "source": [
    "tweets_df = RateTweets(tweets_df)\n",
    "tweets_df.to_csv(output_csv, index=False, encoding='UTF-8')\n",
    "tweets_df.tail(3)"
   ]
  },
  {
   "cell_type": "markdown",
   "metadata": {},
   "source": [
    "# SQLAlchemy\n",
    "### Connecting to a certain other host "
   ]
  },
  {
   "cell_type": "code",
   "execution_count": 160,
   "metadata": {},
   "outputs": [],
   "source": [
    "from sqlalchemy.ext.automap import automap_base\n",
    "from sqlalchemy.orm import Session\n",
    "from sqlalchemy import create_engine"
   ]
  },
  {
   "cell_type": "code",
   "execution_count": 161,
   "metadata": {},
   "outputs": [],
   "source": [
    "engine = create_engine(conn, echo=False)"
   ]
  },
  {
   "cell_type": "code",
   "execution_count": 162,
   "metadata": {},
   "outputs": [],
   "source": [
    "Base = automap_base()\n",
    "Base.prepare(engine, reflect=True)  "
   ]
  },
  {
   "cell_type": "code",
   "execution_count": 163,
   "metadata": {},
   "outputs": [
    {
     "data": {
      "text/plain": [
       "['tweets1']"
      ]
     },
     "execution_count": 163,
     "metadata": {},
     "output_type": "execute_result"
    }
   ],
   "source": [
    "# Test connection\n",
    "# it works!!!\n",
    "Base.classes.keys()"
   ]
  },
  {
   "cell_type": "markdown",
   "metadata": {},
   "source": [
    "### Don't run yet\n",
    "Clean up your tweets! "
   ]
  },
  {
   "cell_type": "code",
   "execution_count": 164,
   "metadata": {},
   "outputs": [
    {
     "ename": "ProgrammingError",
     "evalue": "(psycopg2.errors.UndefinedColumn) column \"Subjectivity\" of relation \"del\" does not exist\nLINE 1: ...eo, coords, retweet_count, tweet_favourite_count, \"Subjectiv...\n                                                             ^\n\n[SQL: INSERT INTO del (index, created, id_str, text, user_id, screen_name, location, followers_count, user_favourites_count, time_zone, geo_enabled, verified, status_count, geo, coords, retweet_count, tweet_favourite_count, \"Subjectivity\", \"Polarity\", \"Sentiment\") VALUES (%(index)s, %(created)s, %(id_str)s, %(text)s, %(user_id)s, %(screen_name)s, %(location)s, %(followers_count)s, %(user_favourites_count)s, %(time_zone)s, %(geo_enabled)s, %(verified)s, %(status_count)s, %(geo)s, %(coords)s, %(retweet_count)s, %(tweet_favourite_count)s, %(Subjectivity)s, %(Polarity)s, %(Sentiment)s)]\n[parameters: ({'index': 0, 'created': datetime.datetime(2021, 3, 12, 1, 21, 25), 'id_str': '1370183110994882563', 'text': 'Joy_Villa Fact 400 000 people died of covid under trump administration. Also scientist developed the vaccine not trump.', 'user_id': 1324129031890051072, 'screen_name': 'LindoFarolito', 'location': '', 'followers_count': 0, 'user_favourites_count': 63, 'time_zone': None, 'geo_enabled': False, 'verified': False, 'status_count': 415, 'geo': None, 'coords': None, 'retweet_count': 0, 'tweet_favourite_count': 1, 'Subjectivity': 0.3, 'Polarity': 0.1, 'Sentiment': 'positive'}, {'index': 1, 'created': datetime.datetime(2021, 3, 12, 1, 21, 24), 'id_str': '1370183109484769283', 'text': 'LincolnsBible: My god... I cannot imagine how wretched the vaccine and Covid infection situation in America would be right now, if Jare…', 'user_id': 987795508449103872, 'screen_name': 'ItsmeDonna8', 'location': 'Jacksonville, Florida ', 'followers_count': 7556, 'user_favourites_count': 59091, 'time_zone': None, 'geo_enabled': False, 'verified': False, 'status_count': 23915, 'geo': None, 'coords': None, 'retweet_count': 460, 'tweet_favourite_count': 0, 'Subjectivity': 0.5357142857142857, 'Polarity': 0.2857142857142857, 'Sentiment': 'positive'}, {'index': 2, 'created': datetime.datetime(2021, 3, 12, 1, 21, 24), 'id_str': '1370183108696403972', 'text': 'CBSNews: BREAKING: President Biden announces he is directing all states, tribes and territories to make all U.S. adults 18 and older el…', 'user_id': 4897042768, 'screen_name': 'GoKasichGo', 'location': 'Wisconsin, USA', 'followers_count': 601, 'user_favourites_count': 34074, 'time_zone': None, 'geo_enabled': False, 'verified': False, 'status_count': 20182, 'geo': None, 'coords': None, 'retweet_count': 247, 'tweet_favourite_count': 0, 'Subjectivity': 0.3333333333333333, 'Polarity': 0.16666666666666666, 'Sentiment': 'positive'}, {'index': 3, 'created': datetime.datetime(2021, 3, 12, 1, 21, 24), 'id_str': '1370183108314681348', 'text': 'nbcwashington: A new COVID vaccine online waitlist system called Dr. B was created to keep precious temperature-regulated doses from go…', 'user_id': 3845051536, 'screen_name': 'ThiccCannon', 'location': '', 'followers_count': 404, 'user_favourites_count': 162499, 'time_zone': None, 'geo_enabled': False, 'verified': False, 'status_count': 84072, 'geo': None, 'coords': None, 'retweet_count': 5, 'tweet_favourite_count': 0, 'Subjectivity': 0.7272727272727273, 'Polarity': 0.3181818181818182, 'Sentiment': 'positive'}, {'index': 4, 'created': datetime.datetime(2021, 3, 12, 1, 21, 24), 'id_str': '1370183108272734214', 'text': '“A July 4th with your loved ones is the goal,” President Biden said. \\n\\nAll adult Americans will be eligible to get the vaccine by May 1. \\n\\n', 'user_id': 602532288, 'screen_name': 'SoniaDasgupta', 'location': 'Baltimore, MD', 'followers_count': 1364, 'user_favourites_count': 2837, 'time_zone': None, 'geo_enabled': True, 'verified': True, 'status_count': 22602, 'geo': None, 'coords': None, 'retweet_count': 0, 'tweet_favourite_count': 0, 'Subjectivity': 0.55, 'Polarity': 0.39999999999999997, 'Sentiment': 'positive'}, {'index': 5, 'created': datetime.datetime(2021, 3, 12, 1, 21, 24), 'id_str': '1370183108088233985', 'text': 'navfornol: LOOK: NFNL starts inoculation of Troops against COVID-19 Vaccine\\n \\nRead more about this here: \\n\\nMode…', 'user_id': 1300722530081214466, 'screen_name': 'navforcentral', 'location': 'HNFC, Lapu-Lapu City, Cebu', 'followers_count': 86, 'user_favourites_count': 2172, 'time_zone': None, 'geo_enabled': False, 'verified': False, 'status_count': 1354, 'geo': None, 'coords': None, 'retweet_count': 1, 'tweet_favourite_count': 0, 'Subjectivity': 0.5, 'Polarity': 0.5, 'Sentiment': 'positive'}, {'index': 6, 'created': datetime.datetime(2021, 3, 12, 1, 21, 24), 'id_str': '1370183107765239810', 'text': \"CBCToronto: Here's what you need to know about getting a COVID-19 vaccine at Ontario pharmacies  \", 'user_id': 195971292, 'screen_name': 'Brdcaster', 'location': 'Toronto', 'followers_count': 4530, 'user_favourites_count': 7491, 'time_zone': None, 'geo_enabled': False, 'verified': True, 'status_count': 52545, 'geo': None, 'coords': None, 'retweet_count': 3, 'tweet_favourite_count': 0, 'Subjectivity': 0.0, 'Polarity': 0.0, 'Sentiment': 'neutral'}, {'index': 7, 'created': datetime.datetime(2021, 3, 12, 1, 21, 24), 'id_str': '1370183106947391488', 'text': 'OD_ant: If you die from Covid, but had a comorbidity...you MOST definitely died from Covid.\\n\\nBUT- if you die from a VACCINE and have a…', 'user_id': 942209429914734592, 'screen_name': 'mmooch1970', 'location': 'United States', 'followers_count': 785, 'user_favourites_count': 83069, 'time_zone': None, 'geo_enabled': False, 'verified': False, 'status_count': 29636, 'geo': None, 'coords': None, 'retweet_count': 154, 'tweet_favourite_count': 0, 'Subjectivity': 0.5, 'Polarity': 0.25, 'Sentiment': 'positive'}  ... displaying 10 of 900 total bound parameter sets ...  {'index': 898, 'created': datetime.datetime(2021, 3, 12, 1, 18), 'id_str': '1370182250810183683', 'text': 'Everyone will be eligible to receive a covid vaccine after May 1st. Bitch that’s my birthday 🥳', 'user_id': 775012078516068352, 'screen_name': 'ubetterrecogni', 'location': 'Ann Arbor, MI', 'followers_count': 115, 'user_favourites_count': 4256, 'time_zone': None, 'geo_enabled': False, 'verified': False, 'status_count': 1210, 'geo': None, 'coords': None, 'retweet_count': 0, 'tweet_favourite_count': 4, 'Subjectivity': 0.0, 'Polarity': 0.0, 'Sentiment': 'neutral'}, {'index': 899, 'created': datetime.datetime(2021, 3, 12, 1, 17, 59), 'id_str': '1370182250386530306', 'text': 'AmyKremer: I don’t want to hear Joe Biden talk about Covid and the vaccine as long as he is letting illegal aliens into this country th…', 'user_id': 2523556454, 'screen_name': 'DianaChic1', 'location': '', 'followers_count': 2900, 'user_favourites_count': 12208, 'time_zone': None, 'geo_enabled': False, 'verified': False, 'status_count': 464378, 'geo': None, 'coords': None, 'retweet_count': 157, 'tweet_favourite_count': 0, 'Subjectivity': 0.45, 'Polarity': -0.275, 'Sentiment': 'negative'})]\n(Background on this error at: http://sqlalche.me/e/13/f405)",
     "output_type": "error",
     "traceback": [
      "\u001b[1;31m---------------------------------------------------------------------------\u001b[0m",
      "\u001b[1;31mUndefinedColumn\u001b[0m                           Traceback (most recent call last)",
      "\u001b[1;32m~\\anaconda3\\lib\\site-packages\\sqlalchemy\\engine\\base.py\u001b[0m in \u001b[0;36m_execute_context\u001b[1;34m(self, dialect, constructor, statement, parameters, *args)\u001b[0m\n\u001b[0;32m   1256\u001b[0m                 \u001b[1;32mif\u001b[0m \u001b[1;32mnot\u001b[0m \u001b[0mevt_handled\u001b[0m\u001b[1;33m:\u001b[0m\u001b[1;33m\u001b[0m\u001b[1;33m\u001b[0m\u001b[0m\n\u001b[1;32m-> 1257\u001b[1;33m                     self.dialect.do_executemany(\n\u001b[0m\u001b[0;32m   1258\u001b[0m                         \u001b[0mcursor\u001b[0m\u001b[1;33m,\u001b[0m \u001b[0mstatement\u001b[0m\u001b[1;33m,\u001b[0m \u001b[0mparameters\u001b[0m\u001b[1;33m,\u001b[0m \u001b[0mcontext\u001b[0m\u001b[1;33m\u001b[0m\u001b[1;33m\u001b[0m\u001b[0m\n",
      "\u001b[1;32m~\\anaconda3\\lib\\site-packages\\sqlalchemy\\dialects\\postgresql\\psycopg2.py\u001b[0m in \u001b[0;36mdo_executemany\u001b[1;34m(self, cursor, statement, parameters, context)\u001b[0m\n\u001b[0;32m    872\u001b[0m         \u001b[1;32mif\u001b[0m \u001b[0mself\u001b[0m\u001b[1;33m.\u001b[0m\u001b[0mexecutemany_mode\u001b[0m \u001b[1;32mis\u001b[0m \u001b[0mEXECUTEMANY_DEFAULT\u001b[0m\u001b[1;33m:\u001b[0m\u001b[1;33m\u001b[0m\u001b[1;33m\u001b[0m\u001b[0m\n\u001b[1;32m--> 873\u001b[1;33m             \u001b[0mcursor\u001b[0m\u001b[1;33m.\u001b[0m\u001b[0mexecutemany\u001b[0m\u001b[1;33m(\u001b[0m\u001b[0mstatement\u001b[0m\u001b[1;33m,\u001b[0m \u001b[0mparameters\u001b[0m\u001b[1;33m)\u001b[0m\u001b[1;33m\u001b[0m\u001b[1;33m\u001b[0m\u001b[0m\n\u001b[0m\u001b[0;32m    874\u001b[0m             \u001b[1;32mreturn\u001b[0m\u001b[1;33m\u001b[0m\u001b[1;33m\u001b[0m\u001b[0m\n",
      "\u001b[1;31mUndefinedColumn\u001b[0m: column \"Subjectivity\" of relation \"del\" does not exist\nLINE 1: ...eo, coords, retweet_count, tweet_favourite_count, \"Subjectiv...\n                                                             ^\n",
      "\nThe above exception was the direct cause of the following exception:\n",
      "\u001b[1;31mProgrammingError\u001b[0m                          Traceback (most recent call last)",
      "\u001b[1;32m<ipython-input-164-ba758e509861>\u001b[0m in \u001b[0;36m<module>\u001b[1;34m\u001b[0m\n\u001b[0;32m      1\u001b[0m \u001b[0mcxn\u001b[0m \u001b[1;33m=\u001b[0m \u001b[0mengine\u001b[0m\u001b[1;33m.\u001b[0m\u001b[0mconnect\u001b[0m\u001b[1;33m(\u001b[0m\u001b[1;33m)\u001b[0m\u001b[1;33m\u001b[0m\u001b[1;33m\u001b[0m\u001b[0m\n\u001b[1;32m----> 2\u001b[1;33m \u001b[0mtweets_df\u001b[0m\u001b[1;33m.\u001b[0m\u001b[0mto_sql\u001b[0m\u001b[1;33m(\u001b[0m\u001b[0mname\u001b[0m\u001b[1;33m=\u001b[0m\u001b[1;34m'del'\u001b[0m\u001b[1;33m,\u001b[0m \u001b[0mcon\u001b[0m\u001b[1;33m=\u001b[0m\u001b[0mengine\u001b[0m\u001b[1;33m,\u001b[0m \u001b[0mif_exists\u001b[0m\u001b[1;33m=\u001b[0m\u001b[1;34m'append'\u001b[0m\u001b[1;33m,\u001b[0m \u001b[0mindex\u001b[0m\u001b[1;33m=\u001b[0m\u001b[1;32mTrue\u001b[0m\u001b[1;33m)\u001b[0m\u001b[1;33m\u001b[0m\u001b[1;33m\u001b[0m\u001b[0m\n\u001b[0m",
      "\u001b[1;32m~\\anaconda3\\lib\\site-packages\\pandas\\core\\generic.py\u001b[0m in \u001b[0;36mto_sql\u001b[1;34m(self, name, con, schema, if_exists, index, index_label, chunksize, dtype, method)\u001b[0m\n\u001b[0;32m   2651\u001b[0m         \u001b[1;32mfrom\u001b[0m \u001b[0mpandas\u001b[0m\u001b[1;33m.\u001b[0m\u001b[0mio\u001b[0m \u001b[1;32mimport\u001b[0m \u001b[0msql\u001b[0m\u001b[1;33m\u001b[0m\u001b[1;33m\u001b[0m\u001b[0m\n\u001b[0;32m   2652\u001b[0m \u001b[1;33m\u001b[0m\u001b[0m\n\u001b[1;32m-> 2653\u001b[1;33m         sql.to_sql(\n\u001b[0m\u001b[0;32m   2654\u001b[0m             \u001b[0mself\u001b[0m\u001b[1;33m,\u001b[0m\u001b[1;33m\u001b[0m\u001b[1;33m\u001b[0m\u001b[0m\n\u001b[0;32m   2655\u001b[0m             \u001b[0mname\u001b[0m\u001b[1;33m,\u001b[0m\u001b[1;33m\u001b[0m\u001b[1;33m\u001b[0m\u001b[0m\n",
      "\u001b[1;32m~\\anaconda3\\lib\\site-packages\\pandas\\io\\sql.py\u001b[0m in \u001b[0;36mto_sql\u001b[1;34m(frame, name, con, schema, if_exists, index, index_label, chunksize, dtype, method)\u001b[0m\n\u001b[0;32m    510\u001b[0m         )\n\u001b[0;32m    511\u001b[0m \u001b[1;33m\u001b[0m\u001b[0m\n\u001b[1;32m--> 512\u001b[1;33m     pandas_sql.to_sql(\n\u001b[0m\u001b[0;32m    513\u001b[0m         \u001b[0mframe\u001b[0m\u001b[1;33m,\u001b[0m\u001b[1;33m\u001b[0m\u001b[1;33m\u001b[0m\u001b[0m\n\u001b[0;32m    514\u001b[0m         \u001b[0mname\u001b[0m\u001b[1;33m,\u001b[0m\u001b[1;33m\u001b[0m\u001b[1;33m\u001b[0m\u001b[0m\n",
      "\u001b[1;32m~\\anaconda3\\lib\\site-packages\\pandas\\io\\sql.py\u001b[0m in \u001b[0;36mto_sql\u001b[1;34m(self, frame, name, if_exists, index, index_label, schema, chunksize, dtype, method)\u001b[0m\n\u001b[0;32m   1315\u001b[0m         )\n\u001b[0;32m   1316\u001b[0m         \u001b[0mtable\u001b[0m\u001b[1;33m.\u001b[0m\u001b[0mcreate\u001b[0m\u001b[1;33m(\u001b[0m\u001b[1;33m)\u001b[0m\u001b[1;33m\u001b[0m\u001b[1;33m\u001b[0m\u001b[0m\n\u001b[1;32m-> 1317\u001b[1;33m         \u001b[0mtable\u001b[0m\u001b[1;33m.\u001b[0m\u001b[0minsert\u001b[0m\u001b[1;33m(\u001b[0m\u001b[0mchunksize\u001b[0m\u001b[1;33m,\u001b[0m \u001b[0mmethod\u001b[0m\u001b[1;33m=\u001b[0m\u001b[0mmethod\u001b[0m\u001b[1;33m)\u001b[0m\u001b[1;33m\u001b[0m\u001b[1;33m\u001b[0m\u001b[0m\n\u001b[0m\u001b[0;32m   1318\u001b[0m         \u001b[1;32mif\u001b[0m \u001b[1;32mnot\u001b[0m \u001b[0mname\u001b[0m\u001b[1;33m.\u001b[0m\u001b[0misdigit\u001b[0m\u001b[1;33m(\u001b[0m\u001b[1;33m)\u001b[0m \u001b[1;32mand\u001b[0m \u001b[1;32mnot\u001b[0m \u001b[0mname\u001b[0m\u001b[1;33m.\u001b[0m\u001b[0mislower\u001b[0m\u001b[1;33m(\u001b[0m\u001b[1;33m)\u001b[0m\u001b[1;33m:\u001b[0m\u001b[1;33m\u001b[0m\u001b[1;33m\u001b[0m\u001b[0m\n\u001b[0;32m   1319\u001b[0m             \u001b[1;31m# check for potentially case sensitivity issues (GH7815)\u001b[0m\u001b[1;33m\u001b[0m\u001b[1;33m\u001b[0m\u001b[1;33m\u001b[0m\u001b[0m\n",
      "\u001b[1;32m~\\anaconda3\\lib\\site-packages\\pandas\\io\\sql.py\u001b[0m in \u001b[0;36minsert\u001b[1;34m(self, chunksize, method)\u001b[0m\n\u001b[0;32m    753\u001b[0m \u001b[1;33m\u001b[0m\u001b[0m\n\u001b[0;32m    754\u001b[0m                 \u001b[0mchunk_iter\u001b[0m \u001b[1;33m=\u001b[0m \u001b[0mzip\u001b[0m\u001b[1;33m(\u001b[0m\u001b[1;33m*\u001b[0m\u001b[1;33m[\u001b[0m\u001b[0marr\u001b[0m\u001b[1;33m[\u001b[0m\u001b[0mstart_i\u001b[0m\u001b[1;33m:\u001b[0m\u001b[0mend_i\u001b[0m\u001b[1;33m]\u001b[0m \u001b[1;32mfor\u001b[0m \u001b[0marr\u001b[0m \u001b[1;32min\u001b[0m \u001b[0mdata_list\u001b[0m\u001b[1;33m]\u001b[0m\u001b[1;33m)\u001b[0m\u001b[1;33m\u001b[0m\u001b[1;33m\u001b[0m\u001b[0m\n\u001b[1;32m--> 755\u001b[1;33m                 \u001b[0mexec_insert\u001b[0m\u001b[1;33m(\u001b[0m\u001b[0mconn\u001b[0m\u001b[1;33m,\u001b[0m \u001b[0mkeys\u001b[0m\u001b[1;33m,\u001b[0m \u001b[0mchunk_iter\u001b[0m\u001b[1;33m)\u001b[0m\u001b[1;33m\u001b[0m\u001b[1;33m\u001b[0m\u001b[0m\n\u001b[0m\u001b[0;32m    756\u001b[0m \u001b[1;33m\u001b[0m\u001b[0m\n\u001b[0;32m    757\u001b[0m     def _query_iterator(\n",
      "\u001b[1;32m~\\anaconda3\\lib\\site-packages\\pandas\\io\\sql.py\u001b[0m in \u001b[0;36m_execute_insert\u001b[1;34m(self, conn, keys, data_iter)\u001b[0m\n\u001b[0;32m    667\u001b[0m         \"\"\"\n\u001b[0;32m    668\u001b[0m         \u001b[0mdata\u001b[0m \u001b[1;33m=\u001b[0m \u001b[1;33m[\u001b[0m\u001b[0mdict\u001b[0m\u001b[1;33m(\u001b[0m\u001b[0mzip\u001b[0m\u001b[1;33m(\u001b[0m\u001b[0mkeys\u001b[0m\u001b[1;33m,\u001b[0m \u001b[0mrow\u001b[0m\u001b[1;33m)\u001b[0m\u001b[1;33m)\u001b[0m \u001b[1;32mfor\u001b[0m \u001b[0mrow\u001b[0m \u001b[1;32min\u001b[0m \u001b[0mdata_iter\u001b[0m\u001b[1;33m]\u001b[0m\u001b[1;33m\u001b[0m\u001b[1;33m\u001b[0m\u001b[0m\n\u001b[1;32m--> 669\u001b[1;33m         \u001b[0mconn\u001b[0m\u001b[1;33m.\u001b[0m\u001b[0mexecute\u001b[0m\u001b[1;33m(\u001b[0m\u001b[0mself\u001b[0m\u001b[1;33m.\u001b[0m\u001b[0mtable\u001b[0m\u001b[1;33m.\u001b[0m\u001b[0minsert\u001b[0m\u001b[1;33m(\u001b[0m\u001b[1;33m)\u001b[0m\u001b[1;33m,\u001b[0m \u001b[0mdata\u001b[0m\u001b[1;33m)\u001b[0m\u001b[1;33m\u001b[0m\u001b[1;33m\u001b[0m\u001b[0m\n\u001b[0m\u001b[0;32m    670\u001b[0m \u001b[1;33m\u001b[0m\u001b[0m\n\u001b[0;32m    671\u001b[0m     \u001b[1;32mdef\u001b[0m \u001b[0m_execute_insert_multi\u001b[0m\u001b[1;33m(\u001b[0m\u001b[0mself\u001b[0m\u001b[1;33m,\u001b[0m \u001b[0mconn\u001b[0m\u001b[1;33m,\u001b[0m \u001b[0mkeys\u001b[0m\u001b[1;33m,\u001b[0m \u001b[0mdata_iter\u001b[0m\u001b[1;33m)\u001b[0m\u001b[1;33m:\u001b[0m\u001b[1;33m\u001b[0m\u001b[1;33m\u001b[0m\u001b[0m\n",
      "\u001b[1;32m~\\anaconda3\\lib\\site-packages\\sqlalchemy\\engine\\base.py\u001b[0m in \u001b[0;36mexecute\u001b[1;34m(self, object_, *multiparams, **params)\u001b[0m\n\u001b[0;32m   1012\u001b[0m             )\n\u001b[0;32m   1013\u001b[0m         \u001b[1;32melse\u001b[0m\u001b[1;33m:\u001b[0m\u001b[1;33m\u001b[0m\u001b[1;33m\u001b[0m\u001b[0m\n\u001b[1;32m-> 1014\u001b[1;33m             \u001b[1;32mreturn\u001b[0m \u001b[0mmeth\u001b[0m\u001b[1;33m(\u001b[0m\u001b[0mself\u001b[0m\u001b[1;33m,\u001b[0m \u001b[0mmultiparams\u001b[0m\u001b[1;33m,\u001b[0m \u001b[0mparams\u001b[0m\u001b[1;33m)\u001b[0m\u001b[1;33m\u001b[0m\u001b[1;33m\u001b[0m\u001b[0m\n\u001b[0m\u001b[0;32m   1015\u001b[0m \u001b[1;33m\u001b[0m\u001b[0m\n\u001b[0;32m   1016\u001b[0m     \u001b[1;32mdef\u001b[0m \u001b[0m_execute_function\u001b[0m\u001b[1;33m(\u001b[0m\u001b[0mself\u001b[0m\u001b[1;33m,\u001b[0m \u001b[0mfunc\u001b[0m\u001b[1;33m,\u001b[0m \u001b[0mmultiparams\u001b[0m\u001b[1;33m,\u001b[0m \u001b[0mparams\u001b[0m\u001b[1;33m)\u001b[0m\u001b[1;33m:\u001b[0m\u001b[1;33m\u001b[0m\u001b[1;33m\u001b[0m\u001b[0m\n",
      "\u001b[1;32m~\\anaconda3\\lib\\site-packages\\sqlalchemy\\sql\\elements.py\u001b[0m in \u001b[0;36m_execute_on_connection\u001b[1;34m(self, connection, multiparams, params)\u001b[0m\n\u001b[0;32m    296\u001b[0m     \u001b[1;32mdef\u001b[0m \u001b[0m_execute_on_connection\u001b[0m\u001b[1;33m(\u001b[0m\u001b[0mself\u001b[0m\u001b[1;33m,\u001b[0m \u001b[0mconnection\u001b[0m\u001b[1;33m,\u001b[0m \u001b[0mmultiparams\u001b[0m\u001b[1;33m,\u001b[0m \u001b[0mparams\u001b[0m\u001b[1;33m)\u001b[0m\u001b[1;33m:\u001b[0m\u001b[1;33m\u001b[0m\u001b[1;33m\u001b[0m\u001b[0m\n\u001b[0;32m    297\u001b[0m         \u001b[1;32mif\u001b[0m \u001b[0mself\u001b[0m\u001b[1;33m.\u001b[0m\u001b[0msupports_execution\u001b[0m\u001b[1;33m:\u001b[0m\u001b[1;33m\u001b[0m\u001b[1;33m\u001b[0m\u001b[0m\n\u001b[1;32m--> 298\u001b[1;33m             \u001b[1;32mreturn\u001b[0m \u001b[0mconnection\u001b[0m\u001b[1;33m.\u001b[0m\u001b[0m_execute_clauseelement\u001b[0m\u001b[1;33m(\u001b[0m\u001b[0mself\u001b[0m\u001b[1;33m,\u001b[0m \u001b[0mmultiparams\u001b[0m\u001b[1;33m,\u001b[0m \u001b[0mparams\u001b[0m\u001b[1;33m)\u001b[0m\u001b[1;33m\u001b[0m\u001b[1;33m\u001b[0m\u001b[0m\n\u001b[0m\u001b[0;32m    299\u001b[0m         \u001b[1;32melse\u001b[0m\u001b[1;33m:\u001b[0m\u001b[1;33m\u001b[0m\u001b[1;33m\u001b[0m\u001b[0m\n\u001b[0;32m    300\u001b[0m             \u001b[1;32mraise\u001b[0m \u001b[0mexc\u001b[0m\u001b[1;33m.\u001b[0m\u001b[0mObjectNotExecutableError\u001b[0m\u001b[1;33m(\u001b[0m\u001b[0mself\u001b[0m\u001b[1;33m)\u001b[0m\u001b[1;33m\u001b[0m\u001b[1;33m\u001b[0m\u001b[0m\n",
      "\u001b[1;32m~\\anaconda3\\lib\\site-packages\\sqlalchemy\\engine\\base.py\u001b[0m in \u001b[0;36m_execute_clauseelement\u001b[1;34m(self, elem, multiparams, params)\u001b[0m\n\u001b[0;32m   1125\u001b[0m             )\n\u001b[0;32m   1126\u001b[0m \u001b[1;33m\u001b[0m\u001b[0m\n\u001b[1;32m-> 1127\u001b[1;33m         ret = self._execute_context(\n\u001b[0m\u001b[0;32m   1128\u001b[0m             \u001b[0mdialect\u001b[0m\u001b[1;33m,\u001b[0m\u001b[1;33m\u001b[0m\u001b[1;33m\u001b[0m\u001b[0m\n\u001b[0;32m   1129\u001b[0m             \u001b[0mdialect\u001b[0m\u001b[1;33m.\u001b[0m\u001b[0mexecution_ctx_cls\u001b[0m\u001b[1;33m.\u001b[0m\u001b[0m_init_compiled\u001b[0m\u001b[1;33m,\u001b[0m\u001b[1;33m\u001b[0m\u001b[1;33m\u001b[0m\u001b[0m\n",
      "\u001b[1;32m~\\anaconda3\\lib\\site-packages\\sqlalchemy\\engine\\base.py\u001b[0m in \u001b[0;36m_execute_context\u001b[1;34m(self, dialect, constructor, statement, parameters, *args)\u001b[0m\n\u001b[0;32m   1315\u001b[0m \u001b[1;33m\u001b[0m\u001b[0m\n\u001b[0;32m   1316\u001b[0m         \u001b[1;32mexcept\u001b[0m \u001b[0mBaseException\u001b[0m \u001b[1;32mas\u001b[0m \u001b[0me\u001b[0m\u001b[1;33m:\u001b[0m\u001b[1;33m\u001b[0m\u001b[1;33m\u001b[0m\u001b[0m\n\u001b[1;32m-> 1317\u001b[1;33m             self._handle_dbapi_exception(\n\u001b[0m\u001b[0;32m   1318\u001b[0m                 \u001b[0me\u001b[0m\u001b[1;33m,\u001b[0m \u001b[0mstatement\u001b[0m\u001b[1;33m,\u001b[0m \u001b[0mparameters\u001b[0m\u001b[1;33m,\u001b[0m \u001b[0mcursor\u001b[0m\u001b[1;33m,\u001b[0m \u001b[0mcontext\u001b[0m\u001b[1;33m\u001b[0m\u001b[1;33m\u001b[0m\u001b[0m\n\u001b[0;32m   1319\u001b[0m             )\n",
      "\u001b[1;32m~\\anaconda3\\lib\\site-packages\\sqlalchemy\\engine\\base.py\u001b[0m in \u001b[0;36m_handle_dbapi_exception\u001b[1;34m(self, e, statement, parameters, cursor, context)\u001b[0m\n\u001b[0;32m   1509\u001b[0m                 \u001b[0mutil\u001b[0m\u001b[1;33m.\u001b[0m\u001b[0mraise_\u001b[0m\u001b[1;33m(\u001b[0m\u001b[0mnewraise\u001b[0m\u001b[1;33m,\u001b[0m \u001b[0mwith_traceback\u001b[0m\u001b[1;33m=\u001b[0m\u001b[0mexc_info\u001b[0m\u001b[1;33m[\u001b[0m\u001b[1;36m2\u001b[0m\u001b[1;33m]\u001b[0m\u001b[1;33m,\u001b[0m \u001b[0mfrom_\u001b[0m\u001b[1;33m=\u001b[0m\u001b[0me\u001b[0m\u001b[1;33m)\u001b[0m\u001b[1;33m\u001b[0m\u001b[1;33m\u001b[0m\u001b[0m\n\u001b[0;32m   1510\u001b[0m             \u001b[1;32melif\u001b[0m \u001b[0mshould_wrap\u001b[0m\u001b[1;33m:\u001b[0m\u001b[1;33m\u001b[0m\u001b[1;33m\u001b[0m\u001b[0m\n\u001b[1;32m-> 1511\u001b[1;33m                 util.raise_(\n\u001b[0m\u001b[0;32m   1512\u001b[0m                     \u001b[0msqlalchemy_exception\u001b[0m\u001b[1;33m,\u001b[0m \u001b[0mwith_traceback\u001b[0m\u001b[1;33m=\u001b[0m\u001b[0mexc_info\u001b[0m\u001b[1;33m[\u001b[0m\u001b[1;36m2\u001b[0m\u001b[1;33m]\u001b[0m\u001b[1;33m,\u001b[0m \u001b[0mfrom_\u001b[0m\u001b[1;33m=\u001b[0m\u001b[0me\u001b[0m\u001b[1;33m\u001b[0m\u001b[1;33m\u001b[0m\u001b[0m\n\u001b[0;32m   1513\u001b[0m                 )\n",
      "\u001b[1;32m~\\anaconda3\\lib\\site-packages\\sqlalchemy\\util\\compat.py\u001b[0m in \u001b[0;36mraise_\u001b[1;34m(***failed resolving arguments***)\u001b[0m\n\u001b[0;32m    176\u001b[0m \u001b[1;33m\u001b[0m\u001b[0m\n\u001b[0;32m    177\u001b[0m         \u001b[1;32mtry\u001b[0m\u001b[1;33m:\u001b[0m\u001b[1;33m\u001b[0m\u001b[1;33m\u001b[0m\u001b[0m\n\u001b[1;32m--> 178\u001b[1;33m             \u001b[1;32mraise\u001b[0m \u001b[0mexception\u001b[0m\u001b[1;33m\u001b[0m\u001b[1;33m\u001b[0m\u001b[0m\n\u001b[0m\u001b[0;32m    179\u001b[0m         \u001b[1;32mfinally\u001b[0m\u001b[1;33m:\u001b[0m\u001b[1;33m\u001b[0m\u001b[1;33m\u001b[0m\u001b[0m\n\u001b[0;32m    180\u001b[0m             \u001b[1;31m# credit to\u001b[0m\u001b[1;33m\u001b[0m\u001b[1;33m\u001b[0m\u001b[1;33m\u001b[0m\u001b[0m\n",
      "\u001b[1;32m~\\anaconda3\\lib\\site-packages\\sqlalchemy\\engine\\base.py\u001b[0m in \u001b[0;36m_execute_context\u001b[1;34m(self, dialect, constructor, statement, parameters, *args)\u001b[0m\n\u001b[0;32m   1255\u001b[0m                             \u001b[1;32mbreak\u001b[0m\u001b[1;33m\u001b[0m\u001b[1;33m\u001b[0m\u001b[0m\n\u001b[0;32m   1256\u001b[0m                 \u001b[1;32mif\u001b[0m \u001b[1;32mnot\u001b[0m \u001b[0mevt_handled\u001b[0m\u001b[1;33m:\u001b[0m\u001b[1;33m\u001b[0m\u001b[1;33m\u001b[0m\u001b[0m\n\u001b[1;32m-> 1257\u001b[1;33m                     self.dialect.do_executemany(\n\u001b[0m\u001b[0;32m   1258\u001b[0m                         \u001b[0mcursor\u001b[0m\u001b[1;33m,\u001b[0m \u001b[0mstatement\u001b[0m\u001b[1;33m,\u001b[0m \u001b[0mparameters\u001b[0m\u001b[1;33m,\u001b[0m \u001b[0mcontext\u001b[0m\u001b[1;33m\u001b[0m\u001b[1;33m\u001b[0m\u001b[0m\n\u001b[0;32m   1259\u001b[0m                     )\n",
      "\u001b[1;32m~\\anaconda3\\lib\\site-packages\\sqlalchemy\\dialects\\postgresql\\psycopg2.py\u001b[0m in \u001b[0;36mdo_executemany\u001b[1;34m(self, cursor, statement, parameters, context)\u001b[0m\n\u001b[0;32m    871\u001b[0m     \u001b[1;32mdef\u001b[0m \u001b[0mdo_executemany\u001b[0m\u001b[1;33m(\u001b[0m\u001b[0mself\u001b[0m\u001b[1;33m,\u001b[0m \u001b[0mcursor\u001b[0m\u001b[1;33m,\u001b[0m \u001b[0mstatement\u001b[0m\u001b[1;33m,\u001b[0m \u001b[0mparameters\u001b[0m\u001b[1;33m,\u001b[0m \u001b[0mcontext\u001b[0m\u001b[1;33m=\u001b[0m\u001b[1;32mNone\u001b[0m\u001b[1;33m)\u001b[0m\u001b[1;33m:\u001b[0m\u001b[1;33m\u001b[0m\u001b[1;33m\u001b[0m\u001b[0m\n\u001b[0;32m    872\u001b[0m         \u001b[1;32mif\u001b[0m \u001b[0mself\u001b[0m\u001b[1;33m.\u001b[0m\u001b[0mexecutemany_mode\u001b[0m \u001b[1;32mis\u001b[0m \u001b[0mEXECUTEMANY_DEFAULT\u001b[0m\u001b[1;33m:\u001b[0m\u001b[1;33m\u001b[0m\u001b[1;33m\u001b[0m\u001b[0m\n\u001b[1;32m--> 873\u001b[1;33m             \u001b[0mcursor\u001b[0m\u001b[1;33m.\u001b[0m\u001b[0mexecutemany\u001b[0m\u001b[1;33m(\u001b[0m\u001b[0mstatement\u001b[0m\u001b[1;33m,\u001b[0m \u001b[0mparameters\u001b[0m\u001b[1;33m)\u001b[0m\u001b[1;33m\u001b[0m\u001b[1;33m\u001b[0m\u001b[0m\n\u001b[0m\u001b[0;32m    874\u001b[0m             \u001b[1;32mreturn\u001b[0m\u001b[1;33m\u001b[0m\u001b[1;33m\u001b[0m\u001b[0m\n\u001b[0;32m    875\u001b[0m \u001b[1;33m\u001b[0m\u001b[0m\n",
      "\u001b[1;31mProgrammingError\u001b[0m: (psycopg2.errors.UndefinedColumn) column \"Subjectivity\" of relation \"del\" does not exist\nLINE 1: ...eo, coords, retweet_count, tweet_favourite_count, \"Subjectiv...\n                                                             ^\n\n[SQL: INSERT INTO del (index, created, id_str, text, user_id, screen_name, location, followers_count, user_favourites_count, time_zone, geo_enabled, verified, status_count, geo, coords, retweet_count, tweet_favourite_count, \"Subjectivity\", \"Polarity\", \"Sentiment\") VALUES (%(index)s, %(created)s, %(id_str)s, %(text)s, %(user_id)s, %(screen_name)s, %(location)s, %(followers_count)s, %(user_favourites_count)s, %(time_zone)s, %(geo_enabled)s, %(verified)s, %(status_count)s, %(geo)s, %(coords)s, %(retweet_count)s, %(tweet_favourite_count)s, %(Subjectivity)s, %(Polarity)s, %(Sentiment)s)]\n[parameters: ({'index': 0, 'created': datetime.datetime(2021, 3, 12, 1, 21, 25), 'id_str': '1370183110994882563', 'text': 'Joy_Villa Fact 400 000 people died of covid under trump administration. Also scientist developed the vaccine not trump.', 'user_id': 1324129031890051072, 'screen_name': 'LindoFarolito', 'location': '', 'followers_count': 0, 'user_favourites_count': 63, 'time_zone': None, 'geo_enabled': False, 'verified': False, 'status_count': 415, 'geo': None, 'coords': None, 'retweet_count': 0, 'tweet_favourite_count': 1, 'Subjectivity': 0.3, 'Polarity': 0.1, 'Sentiment': 'positive'}, {'index': 1, 'created': datetime.datetime(2021, 3, 12, 1, 21, 24), 'id_str': '1370183109484769283', 'text': 'LincolnsBible: My god... I cannot imagine how wretched the vaccine and Covid infection situation in America would be right now, if Jare…', 'user_id': 987795508449103872, 'screen_name': 'ItsmeDonna8', 'location': 'Jacksonville, Florida ', 'followers_count': 7556, 'user_favourites_count': 59091, 'time_zone': None, 'geo_enabled': False, 'verified': False, 'status_count': 23915, 'geo': None, 'coords': None, 'retweet_count': 460, 'tweet_favourite_count': 0, 'Subjectivity': 0.5357142857142857, 'Polarity': 0.2857142857142857, 'Sentiment': 'positive'}, {'index': 2, 'created': datetime.datetime(2021, 3, 12, 1, 21, 24), 'id_str': '1370183108696403972', 'text': 'CBSNews: BREAKING: President Biden announces he is directing all states, tribes and territories to make all U.S. adults 18 and older el…', 'user_id': 4897042768, 'screen_name': 'GoKasichGo', 'location': 'Wisconsin, USA', 'followers_count': 601, 'user_favourites_count': 34074, 'time_zone': None, 'geo_enabled': False, 'verified': False, 'status_count': 20182, 'geo': None, 'coords': None, 'retweet_count': 247, 'tweet_favourite_count': 0, 'Subjectivity': 0.3333333333333333, 'Polarity': 0.16666666666666666, 'Sentiment': 'positive'}, {'index': 3, 'created': datetime.datetime(2021, 3, 12, 1, 21, 24), 'id_str': '1370183108314681348', 'text': 'nbcwashington: A new COVID vaccine online waitlist system called Dr. B was created to keep precious temperature-regulated doses from go…', 'user_id': 3845051536, 'screen_name': 'ThiccCannon', 'location': '', 'followers_count': 404, 'user_favourites_count': 162499, 'time_zone': None, 'geo_enabled': False, 'verified': False, 'status_count': 84072, 'geo': None, 'coords': None, 'retweet_count': 5, 'tweet_favourite_count': 0, 'Subjectivity': 0.7272727272727273, 'Polarity': 0.3181818181818182, 'Sentiment': 'positive'}, {'index': 4, 'created': datetime.datetime(2021, 3, 12, 1, 21, 24), 'id_str': '1370183108272734214', 'text': '“A July 4th with your loved ones is the goal,” President Biden said. \\n\\nAll adult Americans will be eligible to get the vaccine by May 1. \\n\\n', 'user_id': 602532288, 'screen_name': 'SoniaDasgupta', 'location': 'Baltimore, MD', 'followers_count': 1364, 'user_favourites_count': 2837, 'time_zone': None, 'geo_enabled': True, 'verified': True, 'status_count': 22602, 'geo': None, 'coords': None, 'retweet_count': 0, 'tweet_favourite_count': 0, 'Subjectivity': 0.55, 'Polarity': 0.39999999999999997, 'Sentiment': 'positive'}, {'index': 5, 'created': datetime.datetime(2021, 3, 12, 1, 21, 24), 'id_str': '1370183108088233985', 'text': 'navfornol: LOOK: NFNL starts inoculation of Troops against COVID-19 Vaccine\\n \\nRead more about this here: \\n\\nMode…', 'user_id': 1300722530081214466, 'screen_name': 'navforcentral', 'location': 'HNFC, Lapu-Lapu City, Cebu', 'followers_count': 86, 'user_favourites_count': 2172, 'time_zone': None, 'geo_enabled': False, 'verified': False, 'status_count': 1354, 'geo': None, 'coords': None, 'retweet_count': 1, 'tweet_favourite_count': 0, 'Subjectivity': 0.5, 'Polarity': 0.5, 'Sentiment': 'positive'}, {'index': 6, 'created': datetime.datetime(2021, 3, 12, 1, 21, 24), 'id_str': '1370183107765239810', 'text': \"CBCToronto: Here's what you need to know about getting a COVID-19 vaccine at Ontario pharmacies  \", 'user_id': 195971292, 'screen_name': 'Brdcaster', 'location': 'Toronto', 'followers_count': 4530, 'user_favourites_count': 7491, 'time_zone': None, 'geo_enabled': False, 'verified': True, 'status_count': 52545, 'geo': None, 'coords': None, 'retweet_count': 3, 'tweet_favourite_count': 0, 'Subjectivity': 0.0, 'Polarity': 0.0, 'Sentiment': 'neutral'}, {'index': 7, 'created': datetime.datetime(2021, 3, 12, 1, 21, 24), 'id_str': '1370183106947391488', 'text': 'OD_ant: If you die from Covid, but had a comorbidity...you MOST definitely died from Covid.\\n\\nBUT- if you die from a VACCINE and have a…', 'user_id': 942209429914734592, 'screen_name': 'mmooch1970', 'location': 'United States', 'followers_count': 785, 'user_favourites_count': 83069, 'time_zone': None, 'geo_enabled': False, 'verified': False, 'status_count': 29636, 'geo': None, 'coords': None, 'retweet_count': 154, 'tweet_favourite_count': 0, 'Subjectivity': 0.5, 'Polarity': 0.25, 'Sentiment': 'positive'}  ... displaying 10 of 900 total bound parameter sets ...  {'index': 898, 'created': datetime.datetime(2021, 3, 12, 1, 18), 'id_str': '1370182250810183683', 'text': 'Everyone will be eligible to receive a covid vaccine after May 1st. Bitch that’s my birthday 🥳', 'user_id': 775012078516068352, 'screen_name': 'ubetterrecogni', 'location': 'Ann Arbor, MI', 'followers_count': 115, 'user_favourites_count': 4256, 'time_zone': None, 'geo_enabled': False, 'verified': False, 'status_count': 1210, 'geo': None, 'coords': None, 'retweet_count': 0, 'tweet_favourite_count': 4, 'Subjectivity': 0.0, 'Polarity': 0.0, 'Sentiment': 'neutral'}, {'index': 899, 'created': datetime.datetime(2021, 3, 12, 1, 17, 59), 'id_str': '1370182250386530306', 'text': 'AmyKremer: I don’t want to hear Joe Biden talk about Covid and the vaccine as long as he is letting illegal aliens into this country th…', 'user_id': 2523556454, 'screen_name': 'DianaChic1', 'location': '', 'followers_count': 2900, 'user_favourites_count': 12208, 'time_zone': None, 'geo_enabled': False, 'verified': False, 'status_count': 464378, 'geo': None, 'coords': None, 'retweet_count': 157, 'tweet_favourite_count': 0, 'Subjectivity': 0.45, 'Polarity': -0.275, 'Sentiment': 'negative'})]\n(Background on this error at: http://sqlalche.me/e/13/f405)"
     ]
    }
   ],
   "source": [
    "cxn = engine.connect()\n",
    "tweets_df.to_sql(name='del', con=engine, if_exists='append', index=True)"
   ]
  },
  {
   "cell_type": "code",
   "execution_count": null,
   "metadata": {},
   "outputs": [],
   "source": [
    "# session things\n",
    "session = Session(engine)\n",
    "session.close()\n"
   ]
  }
 ],
 "metadata": {
  "kernelspec": {
   "display_name": "Python 3",
   "language": "python",
   "name": "python3"
  },
  "language_info": {
   "codemirror_mode": {
    "name": "ipython",
    "version": 3
   },
   "file_extension": ".py",
   "mimetype": "text/x-python",
   "name": "python",
   "nbconvert_exporter": "python",
   "pygments_lexer": "ipython3",
   "version": "3.8.3"
  }
 },
 "nbformat": 4,
 "nbformat_minor": 4
}

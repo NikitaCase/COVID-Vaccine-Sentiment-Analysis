{
 "cells": [
  {
   "cell_type": "markdown",
   "metadata": {},
   "source": [
    "### Import Libraries"
   ]
  },
  {
   "cell_type": "code",
   "execution_count": 7,
   "metadata": {},
   "outputs": [],
   "source": [
    "# Import twitter dependencies\n",
    "import tweepy\n",
    "from config import *"
   ]
  },
  {
   "cell_type": "code",
   "execution_count": 8,
   "metadata": {},
   "outputs": [],
   "source": [
    "# Import transformation dependencies\n",
    "import pandas as pd\n",
    "from datetime import datetime, date\n",
    "import json\n",
    "import re "
   ]
  },
  {
   "cell_type": "code",
   "execution_count": 133,
   "metadata": {},
   "outputs": [],
   "source": [
    "# For sentiment and subjectivity analysis\n",
    "from textblob import TextBlob\n",
    "import nltk\n"
   ]
  },
  {
   "cell_type": "code",
   "execution_count": null,
   "metadata": {},
   "outputs": [],
   "source": [
    "nltk.download('stopwords')\n",
    "nltk.download('punkt')"
   ]
  },
  {
   "cell_type": "code",
   "execution_count": 10,
   "metadata": {},
   "outputs": [],
   "source": [
    "# For stats \n",
    "# https://docs.scipy.org/doc/scipy/reference/generated/scipy.stats.ttest_rel.html\n",
    "from scipy import stats"
   ]
  },
  {
   "cell_type": "markdown",
   "metadata": {},
   "source": [
    "# Tweepy Setup"
   ]
  },
  {
   "cell_type": "code",
   "execution_count": 11,
   "metadata": {},
   "outputs": [],
   "source": [
    "# Tweepy Setup\n",
    "auth = tweepy.OAuthHandler(api_key, api_secret_key)\n",
    "auth.set_access_token(access_token, access_token_secret)\n",
    "api = tweepy.API(auth)"
   ]
  },
  {
   "cell_type": "code",
   "execution_count": 169,
   "metadata": {},
   "outputs": [],
   "source": [
    "# Tweepy search parameters\n",
    "search_terms = ['covid+vaccine OR covid-19+vaccine OR corona+virus+vaccine OR coronavirus+vaccine OR pfizer OR pfizer-biontech OR pfizerbiontech OR moderna OR astrazeneca OR astra+zeneca -filter:retweets']\n",
    "end_date = date(2021,3,11)\n",
    "max_id = '1370060291237576713'\n",
    "limit = 1400 # this is my 15 minute limit :'( \n",
    "\n",
    "# Save files\n",
    "output_csv ='csvs/tw118.csv'\n",
    "output_json ='json/raw118.json'"
   ]
  },
  {
   "cell_type": "markdown",
   "metadata": {},
   "source": [
    "# Functions"
   ]
  },
  {
   "cell_type": "markdown",
   "metadata": {},
   "source": [
    "Collect and save data"
   ]
  },
  {
   "cell_type": "code",
   "execution_count": 170,
   "metadata": {},
   "outputs": [
    {
     "name": "stdout",
     "output_type": "stream",
     "text": [
      "done!\n"
     ]
    }
   ],
   "source": [
    "# Pulls data from api and returns 2 lists:\n",
    "    # one which is parsed for selected variables\n",
    "    # one with all the raw data\n",
    "\n",
    "data = []\n",
    "raw = []\n",
    "tweets = tweepy.Cursor(api.search, max_id = max_id, lang ='en', q=search_terms, tweet_mode='extended').items(limit)\n",
    "for t in tweets: \n",
    "    tweet ={\n",
    "        'created' :t.created_at,\n",
    "        'id_str' : t.id_str,\n",
    "        'text' : t.full_text,\n",
    "        'user_id' :t.user.id,\n",
    "        'screen_name': t.user.screen_name,\n",
    "        'location': t.user.location,\n",
    "        'followers_count': t.user.followers_count,\n",
    "        'user_favourites_count': t.user.favourites_count,\n",
    "        'time_zone' :t.user.time_zone,\n",
    "        'geo_enabled' :t.user.geo_enabled,\n",
    "        'verified' :t.user.verified,\n",
    "        'status_count': t.user.statuses_count,\n",
    "        'geo':t.geo,\n",
    "        'coords':t.coordinates,\n",
    "        'retweet_count': t.retweet_count,\n",
    "        'tweet_favourite_count' : t.favorite_count\n",
    "    }\n",
    "    # add sorted data to one list \n",
    "    data.append(tweet)\n",
    "    # keep raw data in case I realize later that I've removed something important \n",
    "    raw.append(t)\n",
    "print('done!')"
   ]
  },
  {
   "cell_type": "code",
   "execution_count": 171,
   "metadata": {},
   "outputs": [
    {
     "data": {
      "text/html": [
       "<div>\n",
       "<style scoped>\n",
       "    .dataframe tbody tr th:only-of-type {\n",
       "        vertical-align: middle;\n",
       "    }\n",
       "\n",
       "    .dataframe tbody tr th {\n",
       "        vertical-align: top;\n",
       "    }\n",
       "\n",
       "    .dataframe thead th {\n",
       "        text-align: right;\n",
       "    }\n",
       "</style>\n",
       "<table border=\"1\" class=\"dataframe\">\n",
       "  <thead>\n",
       "    <tr style=\"text-align: right;\">\n",
       "      <th></th>\n",
       "      <th>created</th>\n",
       "      <th>id_str</th>\n",
       "      <th>text</th>\n",
       "      <th>user_id</th>\n",
       "      <th>screen_name</th>\n",
       "      <th>location</th>\n",
       "      <th>followers_count</th>\n",
       "      <th>user_favourites_count</th>\n",
       "      <th>time_zone</th>\n",
       "      <th>geo_enabled</th>\n",
       "      <th>verified</th>\n",
       "      <th>status_count</th>\n",
       "      <th>geo</th>\n",
       "      <th>coords</th>\n",
       "      <th>retweet_count</th>\n",
       "      <th>tweet_favourite_count</th>\n",
       "    </tr>\n",
       "  </thead>\n",
       "  <tbody>\n",
       "    <tr>\n",
       "      <th>1398</th>\n",
       "      <td>2021-03-11 17:09:22</td>\n",
       "      <td>1370059284579414016</td>\n",
       "      <td>Denmark, Norway, Iceland Suspend Use Of AstraZ...</td>\n",
       "      <td>326632316</td>\n",
       "      <td>jollymampilly</td>\n",
       "      <td>India, Kerala.</td>\n",
       "      <td>1519</td>\n",
       "      <td>5137</td>\n",
       "      <td>None</td>\n",
       "      <td>True</td>\n",
       "      <td>False</td>\n",
       "      <td>47539</td>\n",
       "      <td>None</td>\n",
       "      <td>None</td>\n",
       "      <td>0</td>\n",
       "      <td>0</td>\n",
       "    </tr>\n",
       "    <tr>\n",
       "      <th>1399</th>\n",
       "      <td>2021-03-11 17:09:22</td>\n",
       "      <td>1370059284038422531</td>\n",
       "      <td>RT @solmamakwa: On March 1, 2021, I was invite...</td>\n",
       "      <td>23807006</td>\n",
       "      <td>AlexCallahan</td>\n",
       "      <td>Toronto, ON</td>\n",
       "      <td>590</td>\n",
       "      <td>135</td>\n",
       "      <td>None</td>\n",
       "      <td>False</td>\n",
       "      <td>False</td>\n",
       "      <td>7065</td>\n",
       "      <td>None</td>\n",
       "      <td>None</td>\n",
       "      <td>238</td>\n",
       "      <td>0</td>\n",
       "    </tr>\n",
       "  </tbody>\n",
       "</table>\n",
       "</div>"
      ],
      "text/plain": [
       "                 created               id_str  \\\n",
       "1398 2021-03-11 17:09:22  1370059284579414016   \n",
       "1399 2021-03-11 17:09:22  1370059284038422531   \n",
       "\n",
       "                                                   text    user_id  \\\n",
       "1398  Denmark, Norway, Iceland Suspend Use Of AstraZ...  326632316   \n",
       "1399  RT @solmamakwa: On March 1, 2021, I was invite...   23807006   \n",
       "\n",
       "        screen_name        location  followers_count  user_favourites_count  \\\n",
       "1398  jollymampilly  India, Kerala.             1519                   5137   \n",
       "1399   AlexCallahan     Toronto, ON              590                    135   \n",
       "\n",
       "     time_zone  geo_enabled  verified  status_count   geo coords  \\\n",
       "1398      None         True     False         47539  None   None   \n",
       "1399      None        False     False          7065  None   None   \n",
       "\n",
       "      retweet_count  tweet_favourite_count  \n",
       "1398              0                      0  \n",
       "1399            238                      0  "
      ]
     },
     "execution_count": 171,
     "metadata": {},
     "output_type": "execute_result"
    }
   ],
   "source": [
    "# Add parsed data to dataframe, convert to csv\n",
    "tweets_df = pd.DataFrame(data)\n",
    "\n",
    "# Save raw data to json \n",
    "with open(output_json, 'w') as file:\n",
    "    for resp in raw:\n",
    "        jso = json.dumps(resp._json,sort_keys=True, indent=3)\n",
    "        file.write(jso)\n",
    "tweets_df.tail(2)"
   ]
  },
  {
   "cell_type": "markdown",
   "metadata": {},
   "source": [
    "### Clean tweets"
   ]
  },
  {
   "cell_type": "code",
   "execution_count": 172,
   "metadata": {},
   "outputs": [],
   "source": [
    "# not working when I put these into a function\n",
    "tweets_df = tweets_df.drop_duplicates(subset=['id_str'])\n",
    "tweets_df = tweets_df.dropna(subset=['id_str', 'screen_name'])"
   ]
  },
  {
   "cell_type": "code",
   "execution_count": 173,
   "metadata": {},
   "outputs": [],
   "source": [
    "# Makes tweets more readable \n",
    "def CleanTweets(txt): \n",
    "    # remove @ username \n",
    "    # txt = re.sub(r'@[A-Za-z0-9)]+','', txt)\n",
    "    # this removes names, which are sometimes vaccine names, so not good for my filter\n",
    "\n",
    "    # remove @ from username\n",
    "    txt = txt.replace('@','')   \n",
    "    \n",
    "    # remove RT    \n",
    "    txt = re.sub(r'RT[\\s]+','',txt)\n",
    "    \n",
    "    # remove # but leave txt\n",
    "    txt = re.sub(r'#','', txt)\n",
    "    \n",
    "    # remove hyperlinks\n",
    "    txt = re.sub(r'https?:\\/\\/\\S+', '', txt)\n",
    "    \n",
    "    txt = re.sub('\\n','', txt)\n",
    "    return txt"
   ]
  },
  {
   "cell_type": "code",
   "execution_count": null,
   "metadata": {},
   "outputs": [],
   "source": []
  },
  {
   "cell_type": "code",
   "execution_count": 174,
   "metadata": {},
   "outputs": [],
   "source": [
    "# Clean the text field \n",
    "tweets_df['text'] = tweets_df['text'].apply(CleanTweets)"
   ]
  },
  {
   "cell_type": "code",
   "execution_count": 175,
   "metadata": {},
   "outputs": [],
   "source": [
    "# to get subjectivity \n",
    "def RateSubjectivity(txt):\n",
    "    return TextBlob(txt).sentiment.subjectivity"
   ]
  },
  {
   "cell_type": "code",
   "execution_count": 176,
   "metadata": {},
   "outputs": [],
   "source": [
    "# to get polarity\n",
    "def RatePolarity(txt):\n",
    "    return TextBlob(txt).sentiment.polarity"
   ]
  },
  {
   "cell_type": "code",
   "execution_count": 177,
   "metadata": {},
   "outputs": [],
   "source": [
    "# add worded sentiment based on polarity score\n",
    "def GetSentiment(num):\n",
    "    if num < 0: \n",
    "        return 'negative' \n",
    "    elif num == 0:\n",
    "        return 'neutral'\n",
    "    else:\n",
    "        return 'positive'"
   ]
  },
  {
   "cell_type": "code",
   "execution_count": 178,
   "metadata": {},
   "outputs": [],
   "source": [
    "# Create Columns\n",
    "def RateTweets(df):\n",
    "    df['Subjectivity'] = df['text'].apply(RateSubjectivity)\n",
    "    df['Polarity'] = df['text'].apply(RatePolarity)\n",
    "    df['Sentiment'] = df['Polarity'].apply(GetSentiment)\n",
    "    return df "
   ]
  },
  {
   "cell_type": "code",
   "execution_count": 179,
   "metadata": {},
   "outputs": [
    {
     "data": {
      "text/html": [
       "<div>\n",
       "<style scoped>\n",
       "    .dataframe tbody tr th:only-of-type {\n",
       "        vertical-align: middle;\n",
       "    }\n",
       "\n",
       "    .dataframe tbody tr th {\n",
       "        vertical-align: top;\n",
       "    }\n",
       "\n",
       "    .dataframe thead th {\n",
       "        text-align: right;\n",
       "    }\n",
       "</style>\n",
       "<table border=\"1\" class=\"dataframe\">\n",
       "  <thead>\n",
       "    <tr style=\"text-align: right;\">\n",
       "      <th></th>\n",
       "      <th>created</th>\n",
       "      <th>id_str</th>\n",
       "      <th>text</th>\n",
       "      <th>user_id</th>\n",
       "      <th>screen_name</th>\n",
       "      <th>location</th>\n",
       "      <th>followers_count</th>\n",
       "      <th>user_favourites_count</th>\n",
       "      <th>time_zone</th>\n",
       "      <th>geo_enabled</th>\n",
       "      <th>verified</th>\n",
       "      <th>status_count</th>\n",
       "      <th>geo</th>\n",
       "      <th>coords</th>\n",
       "      <th>retweet_count</th>\n",
       "      <th>tweet_favourite_count</th>\n",
       "      <th>Subjectivity</th>\n",
       "      <th>Polarity</th>\n",
       "      <th>Sentiment</th>\n",
       "    </tr>\n",
       "  </thead>\n",
       "  <tbody>\n",
       "    <tr>\n",
       "      <th>1397</th>\n",
       "      <td>2021-03-11 17:09:22</td>\n",
       "      <td>1370059284684357633</td>\n",
       "      <td>Shawn_SoPeachy: Pfizer not innocent out here e...</td>\n",
       "      <td>34059643</td>\n",
       "      <td>AirJhourdi</td>\n",
       "      <td>IG:airjhourdi</td>\n",
       "      <td>1765</td>\n",
       "      <td>303</td>\n",
       "      <td>None</td>\n",
       "      <td>True</td>\n",
       "      <td>False</td>\n",
       "      <td>215140</td>\n",
       "      <td>None</td>\n",
       "      <td>None</td>\n",
       "      <td>5</td>\n",
       "      <td>0</td>\n",
       "      <td>0.700000</td>\n",
       "      <td>-0.250</td>\n",
       "      <td>negative</td>\n",
       "    </tr>\n",
       "    <tr>\n",
       "      <th>1398</th>\n",
       "      <td>2021-03-11 17:09:22</td>\n",
       "      <td>1370059284579414016</td>\n",
       "      <td>Denmark, Norway, Iceland Suspend Use Of AstraZ...</td>\n",
       "      <td>326632316</td>\n",
       "      <td>jollymampilly</td>\n",
       "      <td>India, Kerala.</td>\n",
       "      <td>1519</td>\n",
       "      <td>5137</td>\n",
       "      <td>None</td>\n",
       "      <td>True</td>\n",
       "      <td>False</td>\n",
       "      <td>47539</td>\n",
       "      <td>None</td>\n",
       "      <td>None</td>\n",
       "      <td>0</td>\n",
       "      <td>0</td>\n",
       "      <td>0.000000</td>\n",
       "      <td>0.000</td>\n",
       "      <td>neutral</td>\n",
       "    </tr>\n",
       "    <tr>\n",
       "      <th>1399</th>\n",
       "      <td>2021-03-11 17:09:22</td>\n",
       "      <td>1370059284038422531</td>\n",
       "      <td>solmamakwa: On March 1, 2021, I was invited by...</td>\n",
       "      <td>23807006</td>\n",
       "      <td>AlexCallahan</td>\n",
       "      <td>Toronto, ON</td>\n",
       "      <td>590</td>\n",
       "      <td>135</td>\n",
       "      <td>None</td>\n",
       "      <td>False</td>\n",
       "      <td>False</td>\n",
       "      <td>7065</td>\n",
       "      <td>None</td>\n",
       "      <td>None</td>\n",
       "      <td>238</td>\n",
       "      <td>0</td>\n",
       "      <td>0.166667</td>\n",
       "      <td>0.125</td>\n",
       "      <td>positive</td>\n",
       "    </tr>\n",
       "  </tbody>\n",
       "</table>\n",
       "</div>"
      ],
      "text/plain": [
       "                 created               id_str  \\\n",
       "1397 2021-03-11 17:09:22  1370059284684357633   \n",
       "1398 2021-03-11 17:09:22  1370059284579414016   \n",
       "1399 2021-03-11 17:09:22  1370059284038422531   \n",
       "\n",
       "                                                   text    user_id  \\\n",
       "1397  Shawn_SoPeachy: Pfizer not innocent out here e...   34059643   \n",
       "1398  Denmark, Norway, Iceland Suspend Use Of AstraZ...  326632316   \n",
       "1399  solmamakwa: On March 1, 2021, I was invited by...   23807006   \n",
       "\n",
       "        screen_name        location  followers_count  user_favourites_count  \\\n",
       "1397     AirJhourdi   IG:airjhourdi             1765                    303   \n",
       "1398  jollymampilly  India, Kerala.             1519                   5137   \n",
       "1399   AlexCallahan     Toronto, ON              590                    135   \n",
       "\n",
       "     time_zone  geo_enabled  verified  status_count   geo coords  \\\n",
       "1397      None         True     False        215140  None   None   \n",
       "1398      None         True     False         47539  None   None   \n",
       "1399      None        False     False          7065  None   None   \n",
       "\n",
       "      retweet_count  tweet_favourite_count  Subjectivity  Polarity Sentiment  \n",
       "1397              5                      0      0.700000    -0.250  negative  \n",
       "1398              0                      0      0.000000     0.000   neutral  \n",
       "1399            238                      0      0.166667     0.125  positive  "
      ]
     },
     "execution_count": 179,
     "metadata": {},
     "output_type": "execute_result"
    }
   ],
   "source": [
    "tweets_df = RateTweets(tweets_df)\n",
    "tweets_df.to_csv(output_csv, index=False, encoding='UTF-8')\n",
    "tweets_df.tail(3)"
   ]
  },
  {
   "cell_type": "code",
   "execution_count": null,
   "metadata": {},
   "outputs": [],
   "source": []
  },
  {
   "cell_type": "code",
   "execution_count": 180,
   "metadata": {},
   "outputs": [],
   "source": [
    "from os import listdir"
   ]
  },
  {
   "cell_type": "code",
   "execution_count": 181,
   "metadata": {},
   "outputs": [
    {
     "data": {
      "text/plain": [
       "139727"
      ]
     },
     "execution_count": 181,
     "metadata": {},
     "output_type": "execute_result"
    }
   ],
   "source": [
    "filepaths = ['csvs/' + f for f in listdir(\"csvs\")]\n",
    "df = pd.concat(map(pd.read_csv, filepaths))\n",
    "df = df.drop_duplicates(subset=['id_str'])\n",
    "len(df)"
   ]
  },
  {
   "cell_type": "code",
   "execution_count": 185,
   "metadata": {},
   "outputs": [
    {
     "data": {
      "text/html": [
       "<div>\n",
       "<style scoped>\n",
       "    .dataframe tbody tr th:only-of-type {\n",
       "        vertical-align: middle;\n",
       "    }\n",
       "\n",
       "    .dataframe tbody tr th {\n",
       "        vertical-align: top;\n",
       "    }\n",
       "\n",
       "    .dataframe thead th {\n",
       "        text-align: right;\n",
       "    }\n",
       "</style>\n",
       "<table border=\"1\" class=\"dataframe\">\n",
       "  <thead>\n",
       "    <tr style=\"text-align: right;\">\n",
       "      <th></th>\n",
       "      <th>created</th>\n",
       "      <th>id_str</th>\n",
       "      <th>text</th>\n",
       "      <th>user_id</th>\n",
       "      <th>screen_name</th>\n",
       "      <th>location</th>\n",
       "      <th>followers_count</th>\n",
       "      <th>user_favourites_count</th>\n",
       "      <th>time_zone</th>\n",
       "      <th>geo_enabled</th>\n",
       "      <th>verified</th>\n",
       "      <th>status_count</th>\n",
       "      <th>geo</th>\n",
       "      <th>coords</th>\n",
       "      <th>retweet_count</th>\n",
       "      <th>tweet_favourite_count</th>\n",
       "      <th>Subjectivity</th>\n",
       "      <th>Polarity</th>\n",
       "      <th>Sentiment</th>\n",
       "    </tr>\n",
       "  </thead>\n",
       "  <tbody>\n",
       "    <tr>\n",
       "      <th>139717</th>\n",
       "      <td>2021-03-15 00:03:01</td>\n",
       "      <td>1371250548201062410</td>\n",
       "      <td>B52Malmet: A year ago we were clapping every n...</td>\n",
       "      <td>3306650467</td>\n",
       "      <td>Maier12345</td>\n",
       "      <td>Sunnyvale, CA</td>\n",
       "      <td>1189</td>\n",
       "      <td>187723</td>\n",
       "      <td>NaN</td>\n",
       "      <td>False</td>\n",
       "      <td>False</td>\n",
       "      <td>279636</td>\n",
       "      <td>NaN</td>\n",
       "      <td>NaN</td>\n",
       "      <td>764</td>\n",
       "      <td>0</td>\n",
       "      <td>0.300</td>\n",
       "      <td>0.200</td>\n",
       "      <td>positive</td>\n",
       "    </tr>\n",
       "    <tr>\n",
       "      <th>139718</th>\n",
       "      <td>2021-03-15 00:03:01</td>\n",
       "      <td>1371250547454533632</td>\n",
       "      <td>Jessicam6946: Everyone getting their vaccines....</td>\n",
       "      <td>1347611295915388933</td>\n",
       "      <td>meredit71840781</td>\n",
       "      <td>Iowa</td>\n",
       "      <td>168</td>\n",
       "      <td>11798</td>\n",
       "      <td>NaN</td>\n",
       "      <td>False</td>\n",
       "      <td>False</td>\n",
       "      <td>12500</td>\n",
       "      <td>NaN</td>\n",
       "      <td>NaN</td>\n",
       "      <td>335</td>\n",
       "      <td>0</td>\n",
       "      <td>0.275</td>\n",
       "      <td>0.175</td>\n",
       "      <td>positive</td>\n",
       "    </tr>\n",
       "    <tr>\n",
       "      <th>139719</th>\n",
       "      <td>2021-03-15 00:03:01</td>\n",
       "      <td>1371250545130930185</td>\n",
       "      <td>newsmax: Ric Grenell: Biden's only 'reordering...</td>\n",
       "      <td>981234081328521216</td>\n",
       "      <td>Mike86961326</td>\n",
       "      <td>Western N.Y.</td>\n",
       "      <td>328</td>\n",
       "      <td>23357</td>\n",
       "      <td>NaN</td>\n",
       "      <td>True</td>\n",
       "      <td>False</td>\n",
       "      <td>36557</td>\n",
       "      <td>NaN</td>\n",
       "      <td>NaN</td>\n",
       "      <td>1707</td>\n",
       "      <td>0</td>\n",
       "      <td>0.750</td>\n",
       "      <td>-0.100</td>\n",
       "      <td>negative</td>\n",
       "    </tr>\n",
       "    <tr>\n",
       "      <th>139720</th>\n",
       "      <td>2021-03-15 00:03:00</td>\n",
       "      <td>1371250543616798723</td>\n",
       "      <td>bluestein: On Monday, the big day arrives for ...</td>\n",
       "      <td>258967043</td>\n",
       "      <td>biscuitkitten</td>\n",
       "      <td>Atlanta</td>\n",
       "      <td>6699</td>\n",
       "      <td>39802</td>\n",
       "      <td>NaN</td>\n",
       "      <td>True</td>\n",
       "      <td>False</td>\n",
       "      <td>55538</td>\n",
       "      <td>NaN</td>\n",
       "      <td>NaN</td>\n",
       "      <td>24</td>\n",
       "      <td>0</td>\n",
       "      <td>0.300</td>\n",
       "      <td>0.250</td>\n",
       "      <td>positive</td>\n",
       "    </tr>\n",
       "    <tr>\n",
       "      <th>139721</th>\n",
       "      <td>2021-03-15 00:03:00</td>\n",
       "      <td>1371250542219915267</td>\n",
       "      <td>Dr Swamy39 ji\\n\\nNetherlands halts use of Astr...</td>\n",
       "      <td>48274874</td>\n",
       "      <td>i_amdinesh</td>\n",
       "      <td>India</td>\n",
       "      <td>1826</td>\n",
       "      <td>475</td>\n",
       "      <td>NaN</td>\n",
       "      <td>True</td>\n",
       "      <td>False</td>\n",
       "      <td>2507</td>\n",
       "      <td>NaN</td>\n",
       "      <td>NaN</td>\n",
       "      <td>0</td>\n",
       "      <td>0</td>\n",
       "      <td>0.000</td>\n",
       "      <td>0.000</td>\n",
       "      <td>neutral</td>\n",
       "    </tr>\n",
       "    <tr>\n",
       "      <th>139722</th>\n",
       "      <td>2021-03-15 00:03:00</td>\n",
       "      <td>1371250540449988610</td>\n",
       "      <td>f0lake: No i dont think u understand i need to...</td>\n",
       "      <td>1078018972975476736</td>\n",
       "      <td>jenflowerr</td>\n",
       "      <td>California, USA</td>\n",
       "      <td>20</td>\n",
       "      <td>2299</td>\n",
       "      <td>NaN</td>\n",
       "      <td>False</td>\n",
       "      <td>False</td>\n",
       "      <td>1808</td>\n",
       "      <td>NaN</td>\n",
       "      <td>NaN</td>\n",
       "      <td>142</td>\n",
       "      <td>0</td>\n",
       "      <td>0.000</td>\n",
       "      <td>0.000</td>\n",
       "      <td>neutral</td>\n",
       "    </tr>\n",
       "    <tr>\n",
       "      <th>139723</th>\n",
       "      <td>2021-03-15 00:02:59</td>\n",
       "      <td>1371250536633208834</td>\n",
       "      <td>PeterHotez: It’s why we might eventually move ...</td>\n",
       "      <td>828324944522141696</td>\n",
       "      <td>karenh7463</td>\n",
       "      <td>Indiana, USA</td>\n",
       "      <td>641</td>\n",
       "      <td>188950</td>\n",
       "      <td>NaN</td>\n",
       "      <td>True</td>\n",
       "      <td>False</td>\n",
       "      <td>53018</td>\n",
       "      <td>NaN</td>\n",
       "      <td>NaN</td>\n",
       "      <td>495</td>\n",
       "      <td>0</td>\n",
       "      <td>0.500</td>\n",
       "      <td>0.250</td>\n",
       "      <td>positive</td>\n",
       "    </tr>\n",
       "    <tr>\n",
       "      <th>139724</th>\n",
       "      <td>2021-03-15 00:02:58</td>\n",
       "      <td>1371250532568956935</td>\n",
       "      <td>web_rant: mikeallen axios kadiagoba Gosh Mike ...</td>\n",
       "      <td>831767249723731981</td>\n",
       "      <td>randypilsr</td>\n",
       "      <td>Arkansas, USA</td>\n",
       "      <td>456</td>\n",
       "      <td>22502</td>\n",
       "      <td>NaN</td>\n",
       "      <td>True</td>\n",
       "      <td>False</td>\n",
       "      <td>12150</td>\n",
       "      <td>NaN</td>\n",
       "      <td>NaN</td>\n",
       "      <td>2</td>\n",
       "      <td>0</td>\n",
       "      <td>0.100</td>\n",
       "      <td>0.000</td>\n",
       "      <td>neutral</td>\n",
       "    </tr>\n",
       "    <tr>\n",
       "      <th>139725</th>\n",
       "      <td>2021-03-15 00:02:57</td>\n",
       "      <td>1371250531516223488</td>\n",
       "      <td>Reuters: AstraZeneca finds no evidence of incr...</td>\n",
       "      <td>290224215</td>\n",
       "      <td>cadenjames1</td>\n",
       "      <td>Netherlands</td>\n",
       "      <td>141</td>\n",
       "      <td>172</td>\n",
       "      <td>NaN</td>\n",
       "      <td>True</td>\n",
       "      <td>False</td>\n",
       "      <td>11705</td>\n",
       "      <td>NaN</td>\n",
       "      <td>NaN</td>\n",
       "      <td>124</td>\n",
       "      <td>0</td>\n",
       "      <td>0.000</td>\n",
       "      <td>0.000</td>\n",
       "      <td>neutral</td>\n",
       "    </tr>\n",
       "    <tr>\n",
       "      <th>139726</th>\n",
       "      <td>2021-03-15 00:02:57</td>\n",
       "      <td>1371250530123718660</td>\n",
       "      <td>Found my old WHO vaccine cert booklet from whe...</td>\n",
       "      <td>92157908</td>\n",
       "      <td>Juliagoolia1982</td>\n",
       "      <td>Anywhere but here</td>\n",
       "      <td>761</td>\n",
       "      <td>16382</td>\n",
       "      <td>NaN</td>\n",
       "      <td>True</td>\n",
       "      <td>False</td>\n",
       "      <td>13107</td>\n",
       "      <td>NaN</td>\n",
       "      <td>NaN</td>\n",
       "      <td>0</td>\n",
       "      <td>0</td>\n",
       "      <td>0.200</td>\n",
       "      <td>0.100</td>\n",
       "      <td>positive</td>\n",
       "    </tr>\n",
       "  </tbody>\n",
       "</table>\n",
       "</div>"
      ],
      "text/plain": [
       "                    created               id_str  \\\n",
       "139717  2021-03-15 00:03:01  1371250548201062410   \n",
       "139718  2021-03-15 00:03:01  1371250547454533632   \n",
       "139719  2021-03-15 00:03:01  1371250545130930185   \n",
       "139720  2021-03-15 00:03:00  1371250543616798723   \n",
       "139721  2021-03-15 00:03:00  1371250542219915267   \n",
       "139722  2021-03-15 00:03:00  1371250540449988610   \n",
       "139723  2021-03-15 00:02:59  1371250536633208834   \n",
       "139724  2021-03-15 00:02:58  1371250532568956935   \n",
       "139725  2021-03-15 00:02:57  1371250531516223488   \n",
       "139726  2021-03-15 00:02:57  1371250530123718660   \n",
       "\n",
       "                                                     text  \\\n",
       "139717  B52Malmet: A year ago we were clapping every n...   \n",
       "139718  Jessicam6946: Everyone getting their vaccines....   \n",
       "139719  newsmax: Ric Grenell: Biden's only 'reordering...   \n",
       "139720  bluestein: On Monday, the big day arrives for ...   \n",
       "139721  Dr Swamy39 ji\\n\\nNetherlands halts use of Astr...   \n",
       "139722  f0lake: No i dont think u understand i need to...   \n",
       "139723  PeterHotez: It’s why we might eventually move ...   \n",
       "139724  web_rant: mikeallen axios kadiagoba Gosh Mike ...   \n",
       "139725  Reuters: AstraZeneca finds no evidence of incr...   \n",
       "139726  Found my old WHO vaccine cert booklet from whe...   \n",
       "\n",
       "                    user_id      screen_name           location  \\\n",
       "139717           3306650467       Maier12345      Sunnyvale, CA   \n",
       "139718  1347611295915388933  meredit71840781               Iowa   \n",
       "139719   981234081328521216     Mike86961326       Western N.Y.   \n",
       "139720            258967043    biscuitkitten            Atlanta   \n",
       "139721             48274874       i_amdinesh              India   \n",
       "139722  1078018972975476736       jenflowerr    California, USA   \n",
       "139723   828324944522141696       karenh7463       Indiana, USA   \n",
       "139724   831767249723731981       randypilsr      Arkansas, USA   \n",
       "139725            290224215      cadenjames1       Netherlands    \n",
       "139726             92157908  Juliagoolia1982  Anywhere but here   \n",
       "\n",
       "        followers_count  user_favourites_count  time_zone  geo_enabled  \\\n",
       "139717             1189                 187723        NaN        False   \n",
       "139718              168                  11798        NaN        False   \n",
       "139719              328                  23357        NaN         True   \n",
       "139720             6699                  39802        NaN         True   \n",
       "139721             1826                    475        NaN         True   \n",
       "139722               20                   2299        NaN        False   \n",
       "139723              641                 188950        NaN         True   \n",
       "139724              456                  22502        NaN         True   \n",
       "139725              141                    172        NaN         True   \n",
       "139726              761                  16382        NaN         True   \n",
       "\n",
       "        verified  status_count  geo coords  retweet_count  \\\n",
       "139717     False        279636  NaN    NaN            764   \n",
       "139718     False         12500  NaN    NaN            335   \n",
       "139719     False         36557  NaN    NaN           1707   \n",
       "139720     False         55538  NaN    NaN             24   \n",
       "139721     False          2507  NaN    NaN              0   \n",
       "139722     False          1808  NaN    NaN            142   \n",
       "139723     False         53018  NaN    NaN            495   \n",
       "139724     False         12150  NaN    NaN              2   \n",
       "139725     False         11705  NaN    NaN            124   \n",
       "139726     False         13107  NaN    NaN              0   \n",
       "\n",
       "        tweet_favourite_count  Subjectivity  Polarity Sentiment  \n",
       "139717                      0         0.300     0.200  positive  \n",
       "139718                      0         0.275     0.175  positive  \n",
       "139719                      0         0.750    -0.100  negative  \n",
       "139720                      0         0.300     0.250  positive  \n",
       "139721                      0         0.000     0.000   neutral  \n",
       "139722                      0         0.000     0.000   neutral  \n",
       "139723                      0         0.500     0.250  positive  \n",
       "139724                      0         0.100     0.000   neutral  \n",
       "139725                      0         0.000     0.000   neutral  \n",
       "139726                      0         0.200     0.100  positive  "
      ]
     },
     "execution_count": 185,
     "metadata": {},
     "output_type": "execute_result"
    }
   ],
   "source": [
    "df = df.reset_index()\n",
    "df = df.drop(columns=['index'])\n",
    "df.tail(10)"
   ]
  },
  {
   "cell_type": "markdown",
   "metadata": {},
   "source": [
    "# SQLAlchemy\n",
    "### Connecting to a certain other host "
   ]
  },
  {
   "cell_type": "code",
   "execution_count": 165,
   "metadata": {},
   "outputs": [],
   "source": [
    "from sqlalchemy.ext.automap import automap_base\n",
    "from sqlalchemy.orm import Session\n",
    "from sqlalchemy import create_engine"
   ]
  },
  {
   "cell_type": "code",
   "execution_count": 166,
   "metadata": {},
   "outputs": [],
   "source": [
    "engine = create_engine(conn, echo=False)"
   ]
  },
  {
   "cell_type": "code",
   "execution_count": 167,
   "metadata": {},
   "outputs": [],
   "source": [
    "Base = automap_base()\n",
    "Base.prepare(engine, reflect=True)  "
   ]
  },
  {
   "cell_type": "code",
   "execution_count": 168,
   "metadata": {},
   "outputs": [
    {
     "data": {
      "text/plain": [
       "['tw2']"
      ]
     },
     "execution_count": 168,
     "metadata": {},
     "output_type": "execute_result"
    }
   ],
   "source": [
    "# Test connection\n",
    "# it works!!!\n",
    "# not anymore\n",
    "# kill kernal if conn is wrong\n",
    "\n",
    "Base.classes.keys()"
   ]
  },
  {
   "cell_type": "markdown",
   "metadata": {},
   "source": [
    "### Don't run yet\n",
    "Clean up your tweets! "
   ]
  },
  {
   "cell_type": "code",
   "execution_count": 186,
   "metadata": {},
   "outputs": [
    {
     "name": "stdout",
     "output_type": "stream",
     "text": [
      "added!\n"
     ]
    }
   ],
   "source": [
    "# Send data frame to database \n",
    "# last in 118\n",
    "df.to_sql(name='twt100', con=engine, if_exists='append', index=True)\n",
    "print('added!')"
   ]
  },
  {
   "cell_type": "code",
   "execution_count": null,
   "metadata": {},
   "outputs": [],
   "source": [
    "# session things in case I ever need to open one\n",
    "session = Session(engine)\n",
    "session.close()\n"
   ]
  },
  {
   "cell_type": "code",
   "execution_count": 344,
   "metadata": {},
   "outputs": [],
   "source": [
    "import schedule\n",
    "import time"
   ]
  },
  {
   "cell_type": "code",
   "execution_count": null,
   "metadata": {},
   "outputs": [],
   "source": [
    "def EveryFifteen():\n",
    "    print('time')\n",
    "    \n",
    "schedule.every(15).minutes\n"
   ]
  },
  {
   "cell_type": "markdown",
   "metadata": {},
   "source": [
    "### Stopwords "
   ]
  },
  {
   "cell_type": "code",
   "execution_count": 163,
   "metadata": {},
   "outputs": [],
   "source": [
    "def Tokenize(txt):\n",
    "    return TextBlob(txt).words"
   ]
  },
  {
   "cell_type": "code",
   "execution_count": 140,
   "metadata": {},
   "outputs": [
    {
     "data": {
      "text/plain": [
       "['mother', 'mashed', 'mnms']"
      ]
     },
     "execution_count": 140,
     "metadata": {},
     "output_type": "execute_result"
    }
   ],
   "source": [
    "dt = [word for word in tt if word not in stop_words]\n",
    "dt"
   ]
  },
  {
   "cell_type": "code",
   "execution_count": 98,
   "metadata": {},
   "outputs": [
    {
     "data": {
      "text/plain": [
       "WordList(['my', 'mother', 'mashed', 'my', 'mnms'])"
      ]
     },
     "execution_count": 98,
     "metadata": {},
     "output_type": "execute_result"
    }
   ],
   "source": [
    "teststring ='my mother mashed my mnms'\n",
    "tt = TextBlob(teststring).words\n",
    "tt"
   ]
  },
  {
   "cell_type": "code",
   "execution_count": null,
   "metadata": {},
   "outputs": [],
   "source": [
    "def RemoveStopWord(txt):\n",
    "    stop_words = stopwords.words('english')\n",
    "    no_stops = [word for word in lst if word not in stopwords]\n",
    "    return \n"
   ]
  },
  {
   "cell_type": "code",
   "execution_count": 139,
   "metadata": {},
   "outputs": [],
   "source": [
    "from nltk.corpus import stopwords\n",
    "stop_words = stopwords.words('english')"
   ]
  }
 ],
 "metadata": {
  "kernelspec": {
   "display_name": "Python 3",
   "language": "python",
   "name": "python3"
  },
  "language_info": {
   "codemirror_mode": {
    "name": "ipython",
    "version": 3
   },
   "file_extension": ".py",
   "mimetype": "text/x-python",
   "name": "python",
   "nbconvert_exporter": "python",
   "pygments_lexer": "ipython3",
   "version": "3.8.3"
  }
 },
 "nbformat": 4,
 "nbformat_minor": 4
}

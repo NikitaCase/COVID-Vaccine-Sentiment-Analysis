{
 "cells": [
  {
   "cell_type": "code",
   "execution_count": 1,
   "metadata": {},
   "outputs": [],
   "source": [
    "import pandas as pd\n",
    "from config import *"
   ]
  },
  {
   "cell_type": "code",
   "execution_count": 2,
   "metadata": {},
   "outputs": [],
   "source": [
    "from sqlalchemy.ext.automap import automap_base\n",
    "from sqlalchemy.orm import Session\n",
    "from sqlalchemy import create_engine"
   ]
  },
  {
   "cell_type": "code",
   "execution_count": 3,
   "metadata": {},
   "outputs": [],
   "source": [
    "engine = create_engine(conn2, echo=False) "
   ]
  },
  {
   "cell_type": "code",
   "execution_count": 4,
   "metadata": {},
   "outputs": [],
   "source": [
    "Base = automap_base()\n",
    "Base.prepare(engine, reflect=True)  "
   ]
  },
  {
   "cell_type": "code",
   "execution_count": 5,
   "metadata": {},
   "outputs": [],
   "source": [
    "from os import listdir"
   ]
  },
  {
   "cell_type": "code",
   "execution_count": 10,
   "metadata": {},
   "outputs": [
    {
     "data": {
      "text/plain": [
       "232058"
      ]
     },
     "execution_count": 10,
     "metadata": {},
     "output_type": "execute_result"
    }
   ],
   "source": [
    "filepaths = ['csvs/' + f for f in listdir(\"csvs\")]\n",
    "df = pd.concat(map(pd.read_csv, filepaths))\n",
    "df = df.drop_duplicates(subset=['id_str'])\n",
    "len(df)"
   ]
  },
  {
   "cell_type": "code",
   "execution_count": 11,
   "metadata": {},
   "outputs": [
    {
     "data": {
      "text/html": [
       "<div>\n",
       "<style scoped>\n",
       "    .dataframe tbody tr th:only-of-type {\n",
       "        vertical-align: middle;\n",
       "    }\n",
       "\n",
       "    .dataframe tbody tr th {\n",
       "        vertical-align: top;\n",
       "    }\n",
       "\n",
       "    .dataframe thead th {\n",
       "        text-align: right;\n",
       "    }\n",
       "</style>\n",
       "<table border=\"1\" class=\"dataframe\">\n",
       "  <thead>\n",
       "    <tr style=\"text-align: right;\">\n",
       "      <th></th>\n",
       "      <th>created</th>\n",
       "      <th>id_str</th>\n",
       "      <th>text</th>\n",
       "      <th>user_id</th>\n",
       "      <th>screen_name</th>\n",
       "      <th>location</th>\n",
       "      <th>followers_count</th>\n",
       "      <th>user_favourites_count</th>\n",
       "      <th>time_zone</th>\n",
       "      <th>geo_enabled</th>\n",
       "      <th>verified</th>\n",
       "      <th>status_count</th>\n",
       "      <th>geo</th>\n",
       "      <th>coords</th>\n",
       "      <th>retweet_count</th>\n",
       "      <th>tweet_favourite_count</th>\n",
       "      <th>Subjectivity</th>\n",
       "      <th>Polarity</th>\n",
       "      <th>Sentiment</th>\n",
       "    </tr>\n",
       "  </thead>\n",
       "  <tbody>\n",
       "    <tr>\n",
       "      <th>232057</th>\n",
       "      <td>2021-03-15 00:02:57</td>\n",
       "      <td>1371250530123718660</td>\n",
       "      <td>Found my old WHO vaccine cert booklet from whe...</td>\n",
       "      <td>92157908</td>\n",
       "      <td>Juliagoolia1982</td>\n",
       "      <td>Anywhere but here</td>\n",
       "      <td>761</td>\n",
       "      <td>16382</td>\n",
       "      <td>NaN</td>\n",
       "      <td>True</td>\n",
       "      <td>False</td>\n",
       "      <td>13107</td>\n",
       "      <td>NaN</td>\n",
       "      <td>NaN</td>\n",
       "      <td>0</td>\n",
       "      <td>0</td>\n",
       "      <td>0.2</td>\n",
       "      <td>0.1</td>\n",
       "      <td>positive</td>\n",
       "    </tr>\n",
       "  </tbody>\n",
       "</table>\n",
       "</div>"
      ],
      "text/plain": [
       "                    created               id_str  \\\n",
       "232057  2021-03-15 00:02:57  1371250530123718660   \n",
       "\n",
       "                                                     text   user_id  \\\n",
       "232057  Found my old WHO vaccine cert booklet from whe...  92157908   \n",
       "\n",
       "            screen_name           location  followers_count  \\\n",
       "232057  Juliagoolia1982  Anywhere but here              761   \n",
       "\n",
       "        user_favourites_count  time_zone  geo_enabled  verified  status_count  \\\n",
       "232057                  16382        NaN         True     False         13107   \n",
       "\n",
       "        geo coords  retweet_count  tweet_favourite_count  Subjectivity  \\\n",
       "232057  NaN    NaN              0                      0           0.2   \n",
       "\n",
       "        Polarity Sentiment  \n",
       "232057       0.1  positive  "
      ]
     },
     "execution_count": 11,
     "metadata": {},
     "output_type": "execute_result"
    }
   ],
   "source": [
    "df = df.reset_index()\n",
    "df = df.drop(columns=['index'])\n",
    "df.tail(1)"
   ]
  },
  {
   "cell_type": "code",
   "execution_count": 12,
   "metadata": {},
   "outputs": [
    {
     "data": {
      "text/html": [
       "<div>\n",
       "<style scoped>\n",
       "    .dataframe tbody tr th:only-of-type {\n",
       "        vertical-align: middle;\n",
       "    }\n",
       "\n",
       "    .dataframe tbody tr th {\n",
       "        vertical-align: top;\n",
       "    }\n",
       "\n",
       "    .dataframe thead th {\n",
       "        text-align: right;\n",
       "    }\n",
       "</style>\n",
       "<table border=\"1\" class=\"dataframe\">\n",
       "  <thead>\n",
       "    <tr style=\"text-align: right;\">\n",
       "      <th></th>\n",
       "      <th>id_str</th>\n",
       "      <th>text</th>\n",
       "      <th>Sentiment</th>\n",
       "    </tr>\n",
       "  </thead>\n",
       "  <tbody>\n",
       "    <tr>\n",
       "      <th>0</th>\n",
       "      <td>1367263516457979910</td>\n",
       "      <td>Shieldk2 Yes! My wife works for Pfizer and has...</td>\n",
       "      <td>neutral</td>\n",
       "    </tr>\n",
       "    <tr>\n",
       "      <th>1</th>\n",
       "      <td>1367263515656867840</td>\n",
       "      <td>oleary_ray: \"I will not be taking the Covid va...</td>\n",
       "      <td>positive</td>\n",
       "    </tr>\n",
       "    <tr>\n",
       "      <th>2</th>\n",
       "      <td>1367263515388567563</td>\n",
       "      <td>CDC's report on J&amp;amp;J COVID-19 vaccine - \"AC...</td>\n",
       "      <td>positive</td>\n",
       "    </tr>\n",
       "    <tr>\n",
       "      <th>3</th>\n",
       "      <td>1367263513257930752</td>\n",
       "      <td>ByYourLogic: the Pfizer vaccine makes your dic...</td>\n",
       "      <td>positive</td>\n",
       "    </tr>\n",
       "    <tr>\n",
       "      <th>4</th>\n",
       "      <td>1367263503782928384</td>\n",
       "      <td>RobDownenChron: The Archdiocese says the new J...</td>\n",
       "      <td>positive</td>\n",
       "    </tr>\n",
       "    <tr>\n",
       "      <th>...</th>\n",
       "      <td>...</td>\n",
       "      <td>...</td>\n",
       "      <td>...</td>\n",
       "    </tr>\n",
       "    <tr>\n",
       "      <th>232053</th>\n",
       "      <td>1371250540449988610</td>\n",
       "      <td>f0lake: No i dont think u understand i need to...</td>\n",
       "      <td>neutral</td>\n",
       "    </tr>\n",
       "    <tr>\n",
       "      <th>232054</th>\n",
       "      <td>1371250536633208834</td>\n",
       "      <td>PeterHotez: It’s why we might eventually move ...</td>\n",
       "      <td>positive</td>\n",
       "    </tr>\n",
       "    <tr>\n",
       "      <th>232055</th>\n",
       "      <td>1371250532568956935</td>\n",
       "      <td>web_rant: mikeallen axios kadiagoba Gosh Mike ...</td>\n",
       "      <td>neutral</td>\n",
       "    </tr>\n",
       "    <tr>\n",
       "      <th>232056</th>\n",
       "      <td>1371250531516223488</td>\n",
       "      <td>Reuters: AstraZeneca finds no evidence of incr...</td>\n",
       "      <td>neutral</td>\n",
       "    </tr>\n",
       "    <tr>\n",
       "      <th>232057</th>\n",
       "      <td>1371250530123718660</td>\n",
       "      <td>Found my old WHO vaccine cert booklet from whe...</td>\n",
       "      <td>positive</td>\n",
       "    </tr>\n",
       "  </tbody>\n",
       "</table>\n",
       "<p>232058 rows × 3 columns</p>\n",
       "</div>"
      ],
      "text/plain": [
       "                     id_str  \\\n",
       "0       1367263516457979910   \n",
       "1       1367263515656867840   \n",
       "2       1367263515388567563   \n",
       "3       1367263513257930752   \n",
       "4       1367263503782928384   \n",
       "...                     ...   \n",
       "232053  1371250540449988610   \n",
       "232054  1371250536633208834   \n",
       "232055  1371250532568956935   \n",
       "232056  1371250531516223488   \n",
       "232057  1371250530123718660   \n",
       "\n",
       "                                                     text Sentiment  \n",
       "0       Shieldk2 Yes! My wife works for Pfizer and has...   neutral  \n",
       "1       oleary_ray: \"I will not be taking the Covid va...  positive  \n",
       "2       CDC's report on J&amp;J COVID-19 vaccine - \"AC...  positive  \n",
       "3       ByYourLogic: the Pfizer vaccine makes your dic...  positive  \n",
       "4       RobDownenChron: The Archdiocese says the new J...  positive  \n",
       "...                                                   ...       ...  \n",
       "232053  f0lake: No i dont think u understand i need to...   neutral  \n",
       "232054  PeterHotez: It’s why we might eventually move ...  positive  \n",
       "232055  web_rant: mikeallen axios kadiagoba Gosh Mike ...   neutral  \n",
       "232056  Reuters: AstraZeneca finds no evidence of incr...   neutral  \n",
       "232057  Found my old WHO vaccine cert booklet from whe...  positive  \n",
       "\n",
       "[232058 rows x 3 columns]"
      ]
     },
     "execution_count": 12,
     "metadata": {},
     "output_type": "execute_result"
    }
   ],
   "source": [
    "# text dataframe\n",
    "text_df = df[['id_str', 'text','Sentiment']]\n",
    "text_df"
   ]
  },
  {
   "cell_type": "code",
   "execution_count": 14,
   "metadata": {},
   "outputs": [],
   "source": [
    "from textblob import TextBlob"
   ]
  },
  {
   "cell_type": "code",
   "execution_count": 15,
   "metadata": {},
   "outputs": [],
   "source": [
    "from nltk.corpus import stopwords\n",
    "stop_words = stopwords.words('english')"
   ]
  },
  {
   "cell_type": "code",
   "execution_count": 16,
   "metadata": {},
   "outputs": [],
   "source": [
    "def Tokenize(txt):\n",
    "    return TextBlob(txt).words"
   ]
  },
  {
   "cell_type": "code",
   "execution_count": 24,
   "metadata": {},
   "outputs": [],
   "source": [
    "def RemoveStopWords(lst):\n",
    "    stop_words = stopwords.words('english')\n",
    "    no_stopwords = [word for word in lst if not word in stop_words]\n",
    "    return no_stopwords"
   ]
  },
  {
   "cell_type": "code",
   "execution_count": 54,
   "metadata": {},
   "outputs": [],
   "source": [
    "from nltk.stem.porter import PorterStemmer \n",
    "ps = PorterStemmer()\n",
    "\n",
    "def Stem(lst):\n",
    "    new_list = [ps.stem(item) for item in lst]\n",
    "    return new_list\n"
   ]
  },
  {
   "cell_type": "code",
   "execution_count": 41,
   "metadata": {},
   "outputs": [
    {
     "name": "stderr",
     "output_type": "stream",
     "text": [
      "[nltk_data] Downloading package wordnet to\n",
      "[nltk_data]     C:\\Users\\guyan\\AppData\\Roaming\\nltk_data...\n",
      "[nltk_data]   Package wordnet is already up-to-date!\n"
     ]
    }
   ],
   "source": [
    "import nltk\n",
    "nltk.download('wordnet')\n",
    "from nltk.stem.wordnet import WordNetLemmatizer\n",
    "wnl = WordNetLemmatizer()"
   ]
  },
  {
   "cell_type": "code",
   "execution_count": 47,
   "metadata": {},
   "outputs": [],
   "source": [
    "\n",
    "def Lemmatize(lst):\n",
    "#     for item in lst:\n",
    "#         lemma = wnl.lemmatize(item)\n",
    "#         lemmas.append(lemma)\n",
    "     \n",
    "    lemmas = [wnl.lemmatize(item) for item in lst]\n",
    "    return lemmas"
   ]
  },
  {
   "cell_type": "code",
   "execution_count": 55,
   "metadata": {},
   "outputs": [
    {
     "data": {
      "text/plain": [
       "['fur', 'furri', 'church', 'dog', 'speak', 'spoken', 'speak', 'spoke']"
      ]
     },
     "execution_count": 55,
     "metadata": {},
     "output_type": "execute_result"
    }
   ],
   "source": [
    "lit = ['fur','furry', 'churches','dogs','speak','spoken','speaking','spoke']\n",
    "new_lit = Stem(lit)\n",
    "new_lit"
   ]
  },
  {
   "cell_type": "code",
   "execution_count": 56,
   "metadata": {},
   "outputs": [
    {
     "data": {
      "text/plain": [
       "['fur', 'furri', 'church', 'dog', 'speak', 'spoken', 'speak', 'spoke']"
      ]
     },
     "execution_count": 56,
     "metadata": {},
     "output_type": "execute_result"
    }
   ],
   "source": [
    "new_lit2 = Lemmatize(new_lit)\n",
    "new_lit2"
   ]
  },
  {
   "cell_type": "code",
   "execution_count": 26,
   "metadata": {},
   "outputs": [],
   "source": [
    "def KeyWord(lst, search_terms):\n",
    "    if any(search_terms in item for item in lst):\n",
    "        return 1\n",
    "    else: \n",
    "        return 0"
   ]
  },
  {
   "cell_type": "code",
   "execution_count": 59,
   "metadata": {},
   "outputs": [
    {
     "data": {
      "text/html": [
       "<div>\n",
       "<style scoped>\n",
       "    .dataframe tbody tr th:only-of-type {\n",
       "        vertical-align: middle;\n",
       "    }\n",
       "\n",
       "    .dataframe tbody tr th {\n",
       "        vertical-align: top;\n",
       "    }\n",
       "\n",
       "    .dataframe thead th {\n",
       "        text-align: right;\n",
       "    }\n",
       "</style>\n",
       "<table border=\"1\" class=\"dataframe\">\n",
       "  <thead>\n",
       "    <tr style=\"text-align: right;\">\n",
       "      <th></th>\n",
       "      <th>id_str</th>\n",
       "      <th>text</th>\n",
       "      <th>Sentiment</th>\n",
       "      <th>tokens</th>\n",
       "      <th>clean_tokens</th>\n",
       "      <th>clean_lemmas</th>\n",
       "    </tr>\n",
       "  </thead>\n",
       "  <tbody>\n",
       "    <tr>\n",
       "      <th>0</th>\n",
       "      <td>1367263516457979910</td>\n",
       "      <td>Shieldk2 Yes! My wife works for Pfizer and has...</td>\n",
       "      <td>neutral</td>\n",
       "      <td>[Shieldk2, Yes, My, wife, works, for, Pfizer, ...</td>\n",
       "      <td>[Shieldk2, Yes, My, wife, works, Pfizer, worki...</td>\n",
       "      <td>[Shieldk2, Yes, My, wife, work, Pfizer, workin...</td>\n",
       "    </tr>\n",
       "    <tr>\n",
       "      <th>1</th>\n",
       "      <td>1367263515656867840</td>\n",
       "      <td>oleary_ray: \"I will not be taking the Covid va...</td>\n",
       "      <td>positive</td>\n",
       "      <td>[oleary_ray, I, will, not, be, taking, the, Co...</td>\n",
       "      <td>[oleary_ray, I, taking, Covid, vaccine, Covid,...</td>\n",
       "      <td>[oleary_ray, I, taking, Covid, vaccine, Covid,...</td>\n",
       "    </tr>\n",
       "    <tr>\n",
       "      <th>2</th>\n",
       "      <td>1367263515388567563</td>\n",
       "      <td>CDC's report on J&amp;amp;J COVID-19 vaccine - \"AC...</td>\n",
       "      <td>positive</td>\n",
       "      <td>[CDC, 's, report, on, J, amp, J, COVID-19, vac...</td>\n",
       "      <td>[CDC, 's, report, J, amp, J, COVID-19, vaccine...</td>\n",
       "      <td>[CDC, 's, report, J, amp, J, COVID-19, vaccine...</td>\n",
       "    </tr>\n",
       "  </tbody>\n",
       "</table>\n",
       "</div>"
      ],
      "text/plain": [
       "                id_str                                               text  \\\n",
       "0  1367263516457979910  Shieldk2 Yes! My wife works for Pfizer and has...   \n",
       "1  1367263515656867840  oleary_ray: \"I will not be taking the Covid va...   \n",
       "2  1367263515388567563  CDC's report on J&amp;J COVID-19 vaccine - \"AC...   \n",
       "\n",
       "  Sentiment                                             tokens  \\\n",
       "0   neutral  [Shieldk2, Yes, My, wife, works, for, Pfizer, ...   \n",
       "1  positive  [oleary_ray, I, will, not, be, taking, the, Co...   \n",
       "2  positive  [CDC, 's, report, on, J, amp, J, COVID-19, vac...   \n",
       "\n",
       "                                        clean_tokens  \\\n",
       "0  [Shieldk2, Yes, My, wife, works, Pfizer, worki...   \n",
       "1  [oleary_ray, I, taking, Covid, vaccine, Covid,...   \n",
       "2  [CDC, 's, report, J, amp, J, COVID-19, vaccine...   \n",
       "\n",
       "                                        clean_lemmas  \n",
       "0  [Shieldk2, Yes, My, wife, work, Pfizer, workin...  \n",
       "1  [oleary_ray, I, taking, Covid, vaccine, Covid,...  \n",
       "2  [CDC, 's, report, J, amp, J, COVID-19, vaccine...  "
      ]
     },
     "execution_count": 59,
     "metadata": {},
     "output_type": "execute_result"
    }
   ],
   "source": [
    "text_df['tokens'] = text_df['text'].apply(Tokenize)\n",
    "text_df['clean_tokens'] = text_df['tokens'].apply(RemoveStopWords)\n",
    "text_df['clean_lemmas'] = text_df['clean_tokens'].apply(Lemmatize)\n",
    "text_df.head(3)"
   ]
  },
  {
   "cell_type": "code",
   "execution_count": null,
   "metadata": {},
   "outputs": [],
   "source": [
    "text_df = text_df[['id_str','Sentiment','clean_lemmas']]"
   ]
  },
  {
   "cell_type": "code",
   "execution_count": 63,
   "metadata": {},
   "outputs": [],
   "source": [
    "def Lower(lst):\n",
    "    new_list = [i.lower() for i in lst]\n",
    "    return new_list"
   ]
  },
  {
   "cell_type": "code",
   "execution_count": 64,
   "metadata": {},
   "outputs": [
    {
     "name": "stdout",
     "output_type": "stream",
     "text": [
      "this is sentence hi\n"
     ]
    }
   ],
   "source": [
    "sent = 'this IS senTence Hi'\n",
    "print(sent.lower())"
   ]
  },
  {
   "cell_type": "code",
   "execution_count": null,
   "metadata": {},
   "outputs": [],
   "source": [
    "text_df[''] = text_df"
   ]
  },
  {
   "cell_type": "markdown",
   "metadata": {},
   "source": [
    "# Pick out Key Words"
   ]
  },
  {
   "cell_type": "code",
   "execution_count": null,
   "metadata": {},
   "outputs": [],
   "source": [
    "az_terms= ['astrazeneca','']"
   ]
  }
 ],
 "metadata": {
  "kernelspec": {
   "display_name": "Python 3",
   "language": "python",
   "name": "python3"
  },
  "language_info": {
   "codemirror_mode": {
    "name": "ipython",
    "version": 3
   },
   "file_extension": ".py",
   "mimetype": "text/x-python",
   "name": "python",
   "nbconvert_exporter": "python",
   "pygments_lexer": "ipython3",
   "version": "3.8.3"
  }
 },
 "nbformat": 4,
 "nbformat_minor": 4
}

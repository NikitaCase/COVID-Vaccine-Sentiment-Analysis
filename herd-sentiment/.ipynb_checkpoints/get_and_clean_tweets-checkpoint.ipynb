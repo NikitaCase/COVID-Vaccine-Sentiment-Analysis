{
 "cells": [
  {
   "cell_type": "markdown",
   "metadata": {},
   "source": [
    "### Import Libraries"
   ]
  },
  {
   "cell_type": "code",
   "execution_count": 15,
   "metadata": {},
   "outputs": [],
   "source": [
    "# Import twitter dependencies\n",
    "import tweepy\n",
    "from config import *"
   ]
  },
  {
   "cell_type": "code",
   "execution_count": 16,
   "metadata": {},
   "outputs": [],
   "source": [
    "# Import transformation dependencies\n",
    "import pandas as pd\n",
    "from datetime import datetime, date\n",
    "import json\n",
    "import re "
   ]
  },
  {
   "cell_type": "code",
   "execution_count": 17,
   "metadata": {},
   "outputs": [],
   "source": [
    "# For sentiment and subjectivity analysis\n",
    "from textblob import TextBlob"
   ]
  },
  {
   "cell_type": "markdown",
   "metadata": {},
   "source": [
    "# Tweepy Setup"
   ]
  },
  {
   "cell_type": "code",
   "execution_count": 18,
   "metadata": {},
   "outputs": [],
   "source": [
    "# Tweepy Setup\n",
    "auth = tweepy.OAuthHandler(api_key, api_secret_key)\n",
    "auth.set_access_token(access_token, access_token_secret)\n",
    "api = tweepy.API(auth)"
   ]
  },
  {
   "cell_type": "code",
   "execution_count": 30,
   "metadata": {},
   "outputs": [],
   "source": [
    "# Tweepy search parameters\n",
    "search_terms = ['covid+vaccine OR covid-19+vaccine OR pfizer OR pfizer-biontech OR moderna OR astrazeneca OR astra+zeneca -filter:retweets']\n",
    "end_date = date(2021,3,11)\n",
    "max_id ='1370174209985376258'\n",
    "limit = 900 # this is my 15 minute limit :'( breaks if this becomes 1000\n",
    "\n",
    "# Save files\n",
    "output_csv ='csvs/tw20.csv'\n",
    "output_json ='json/raw20.json'"
   ]
  },
  {
   "cell_type": "markdown",
   "metadata": {},
   "source": [
    "# Functions"
   ]
  },
  {
   "cell_type": "markdown",
   "metadata": {},
   "source": [
    "Collect and save data"
   ]
  },
  {
   "cell_type": "code",
   "execution_count": 20,
   "metadata": {},
   "outputs": [
    {
     "name": "stdout",
     "output_type": "stream",
     "text": [
      "done!\n"
     ]
    }
   ],
   "source": [
    "# Pulls data from api and returns 2 lists:\n",
    "    # one which is parsed for selected variables\n",
    "    # one with all the raw data\n",
    "\n",
    "data = []\n",
    "raw = []\n",
    "tweets = tweepy.Cursor(api.search, location='canada', max_id = max_id, place='canada', lang ='en', q=search_terms, tweet_mode='extended').items(limit)\n",
    "for t in tweets: \n",
    "    tweet ={\n",
    "        'created' :t.created_at,\n",
    "        'id_str' : t.id_str,\n",
    "        'text' : t.full_text,\n",
    "        'user_id' :t.user.id,\n",
    "        'screen_name': t.user.screen_name,\n",
    "        'location': t.user.location,\n",
    "        'followers_count': t.user.followers_count,\n",
    "        'user_favourites_count': t.user.favourites_count,\n",
    "        'time_zone' :t.user.time_zone,\n",
    "        'geo_enabled' :t.user.geo_enabled,\n",
    "        'verified' :t.user.verified,\n",
    "        'status_count': t.user.statuses_count,\n",
    "        'geo':t.geo,\n",
    "        'coords':t.coordinates,\n",
    "        'retweet_count': t.retweet_count,\n",
    "        'tweet_favourite_count' : t.favorite_count\n",
    "    }\n",
    "    # add sorted data to one list \n",
    "    data.append(tweet)\n",
    "    # keep raw data in case I realize later that I've removed something important \n",
    "    raw.append(t)\n",
    "print('done!')"
   ]
  },
  {
   "cell_type": "code",
   "execution_count": 21,
   "metadata": {},
   "outputs": [
    {
     "data": {
      "text/html": [
       "<div>\n",
       "<style scoped>\n",
       "    .dataframe tbody tr th:only-of-type {\n",
       "        vertical-align: middle;\n",
       "    }\n",
       "\n",
       "    .dataframe tbody tr th {\n",
       "        vertical-align: top;\n",
       "    }\n",
       "\n",
       "    .dataframe thead th {\n",
       "        text-align: right;\n",
       "    }\n",
       "</style>\n",
       "<table border=\"1\" class=\"dataframe\">\n",
       "  <thead>\n",
       "    <tr style=\"text-align: right;\">\n",
       "      <th></th>\n",
       "      <th>created</th>\n",
       "      <th>id_str</th>\n",
       "      <th>text</th>\n",
       "      <th>user_id</th>\n",
       "      <th>screen_name</th>\n",
       "      <th>location</th>\n",
       "      <th>followers_count</th>\n",
       "      <th>user_favourites_count</th>\n",
       "      <th>time_zone</th>\n",
       "      <th>geo_enabled</th>\n",
       "      <th>verified</th>\n",
       "      <th>status_count</th>\n",
       "      <th>geo</th>\n",
       "      <th>coords</th>\n",
       "      <th>retweet_count</th>\n",
       "      <th>tweet_favourite_count</th>\n",
       "    </tr>\n",
       "  </thead>\n",
       "  <tbody>\n",
       "    <tr>\n",
       "      <th>897</th>\n",
       "      <td>2021-03-12 00:46:03</td>\n",
       "      <td>1370174210337873921</td>\n",
       "      <td>RT @finnygo: BREAKING: @POTUS will announce du...</td>\n",
       "      <td>23380149</td>\n",
       "      <td>robertropars</td>\n",
       "      <td>Chicagoland, IL</td>\n",
       "      <td>6889</td>\n",
       "      <td>27765</td>\n",
       "      <td>None</td>\n",
       "      <td>False</td>\n",
       "      <td>False</td>\n",
       "      <td>217889</td>\n",
       "      <td>None</td>\n",
       "      <td>None</td>\n",
       "      <td>76</td>\n",
       "      <td>0</td>\n",
       "    </tr>\n",
       "    <tr>\n",
       "      <th>898</th>\n",
       "      <td>2021-03-12 00:46:02</td>\n",
       "      <td>1370174210006466560</td>\n",
       "      <td>RT @JoJoFromJerz: The former guy wants us to t...</td>\n",
       "      <td>342808711</td>\n",
       "      <td>mikejzimmer</td>\n",
       "      <td>Minot, N.D.</td>\n",
       "      <td>1001</td>\n",
       "      <td>9992</td>\n",
       "      <td>None</td>\n",
       "      <td>False</td>\n",
       "      <td>False</td>\n",
       "      <td>19915</td>\n",
       "      <td>None</td>\n",
       "      <td>None</td>\n",
       "      <td>127</td>\n",
       "      <td>0</td>\n",
       "    </tr>\n",
       "    <tr>\n",
       "      <th>899</th>\n",
       "      <td>2021-03-12 00:46:02</td>\n",
       "      <td>1370174209985376258</td>\n",
       "      <td>@noahweiland @JenniferJJacobs @RebeccaDRobbins...</td>\n",
       "      <td>1266510764564557825</td>\n",
       "      <td>NinaWar13079067</td>\n",
       "      <td></td>\n",
       "      <td>488</td>\n",
       "      <td>31890</td>\n",
       "      <td>None</td>\n",
       "      <td>False</td>\n",
       "      <td>False</td>\n",
       "      <td>7362</td>\n",
       "      <td>None</td>\n",
       "      <td>None</td>\n",
       "      <td>3</td>\n",
       "      <td>8</td>\n",
       "    </tr>\n",
       "  </tbody>\n",
       "</table>\n",
       "</div>"
      ],
      "text/plain": [
       "                created               id_str  \\\n",
       "897 2021-03-12 00:46:03  1370174210337873921   \n",
       "898 2021-03-12 00:46:02  1370174210006466560   \n",
       "899 2021-03-12 00:46:02  1370174209985376258   \n",
       "\n",
       "                                                  text              user_id  \\\n",
       "897  RT @finnygo: BREAKING: @POTUS will announce du...             23380149   \n",
       "898  RT @JoJoFromJerz: The former guy wants us to t...            342808711   \n",
       "899  @noahweiland @JenniferJJacobs @RebeccaDRobbins...  1266510764564557825   \n",
       "\n",
       "         screen_name         location  followers_count  user_favourites_count  \\\n",
       "897     robertropars  Chicagoland, IL             6889                  27765   \n",
       "898      mikejzimmer      Minot, N.D.             1001                   9992   \n",
       "899  NinaWar13079067                               488                  31890   \n",
       "\n",
       "    time_zone  geo_enabled  verified  status_count   geo coords  \\\n",
       "897      None        False     False        217889  None   None   \n",
       "898      None        False     False         19915  None   None   \n",
       "899      None        False     False          7362  None   None   \n",
       "\n",
       "     retweet_count  tweet_favourite_count  \n",
       "897             76                      0  \n",
       "898            127                      0  \n",
       "899              3                      8  "
      ]
     },
     "execution_count": 21,
     "metadata": {},
     "output_type": "execute_result"
    }
   ],
   "source": [
    "# Add parsed data to dataframe, convert to csv\n",
    "tweets_df = pd.DataFrame(data)\n",
    "\n",
    "# Save raw data to json \n",
    "with open(output_json, 'w') as file:\n",
    "    for resp in raw:\n",
    "        jso = json.dumps(resp._json,sort_keys=True, indent=3)\n",
    "        file.write(jso)\n",
    "tweets_df.tail(3)"
   ]
  },
  {
   "cell_type": "markdown",
   "metadata": {},
   "source": [
    "### Clean tweets"
   ]
  },
  {
   "cell_type": "code",
   "execution_count": 22,
   "metadata": {},
   "outputs": [],
   "source": [
    "# not working when I put these into a function\n",
    "tweets_df = tweets_df.drop_duplicates(subset=['id_str'])\n",
    "tweets_df = tweets_df.dropna(subset=['id_str', 'screen_name'])"
   ]
  },
  {
   "cell_type": "code",
   "execution_count": 23,
   "metadata": {},
   "outputs": [],
   "source": [
    "# Makes tweets more readable \n",
    "def CleanTweets(txt): \n",
    "    # remove @ username \n",
    "    # txt = re.sub(r'@[A-Za-z0-9)]+','', txt)\n",
    "\n",
    "    # remove @ from username\n",
    "    txt = txt.replace('@','')    \n",
    "    \n",
    "    # remove RT    \n",
    "    txt = re.sub(r'RT[\\s]+','',txt)\n",
    "    \n",
    "    # remove # but leave txt\n",
    "    txt = re.sub(r'#','', txt)\n",
    "    \n",
    "    # remove hyperlinks\n",
    "    txt = re.sub(r'https?:\\/\\/\\S+', '', txt)\n",
    "    return txt"
   ]
  },
  {
   "cell_type": "code",
   "execution_count": 24,
   "metadata": {},
   "outputs": [],
   "source": [
    "# Clean the text field \n",
    "tweets_df['text'] = tweets_df['text'].apply(CleanTweets)"
   ]
  },
  {
   "cell_type": "code",
   "execution_count": 25,
   "metadata": {},
   "outputs": [],
   "source": [
    "# to get subjectivity \n",
    "def RateSubjectivity(txt):\n",
    "    return TextBlob(txt).sentiment.subjectivity"
   ]
  },
  {
   "cell_type": "code",
   "execution_count": 26,
   "metadata": {},
   "outputs": [],
   "source": [
    "# to get polarity\n",
    "def RatePolarity(txt):\n",
    "    return TextBlob(txt).sentiment.polarity"
   ]
  },
  {
   "cell_type": "code",
   "execution_count": 27,
   "metadata": {},
   "outputs": [],
   "source": [
    "# add worded sentiment based on polarity score\n",
    "def GetSentiment(num):\n",
    "    if num < 0: \n",
    "        return 'negative' \n",
    "    elif num == 0:\n",
    "        return 'neutral'\n",
    "    else:\n",
    "        return 'positive'"
   ]
  },
  {
   "cell_type": "code",
   "execution_count": 28,
   "metadata": {},
   "outputs": [],
   "source": [
    "# Create Columns\n",
    "def RateTweets(df):\n",
    "    df['Subjectivity'] = df['text'].apply(RateSubjectivity)\n",
    "    df['Polarity'] = df['text'].apply(RatePolarity)\n",
    "    df['Sentiment'] = df['Polarity'].apply(GetSentiment)\n",
    "    return df "
   ]
  },
  {
   "cell_type": "code",
   "execution_count": 29,
   "metadata": {},
   "outputs": [
    {
     "data": {
      "text/html": [
       "<div>\n",
       "<style scoped>\n",
       "    .dataframe tbody tr th:only-of-type {\n",
       "        vertical-align: middle;\n",
       "    }\n",
       "\n",
       "    .dataframe tbody tr th {\n",
       "        vertical-align: top;\n",
       "    }\n",
       "\n",
       "    .dataframe thead th {\n",
       "        text-align: right;\n",
       "    }\n",
       "</style>\n",
       "<table border=\"1\" class=\"dataframe\">\n",
       "  <thead>\n",
       "    <tr style=\"text-align: right;\">\n",
       "      <th></th>\n",
       "      <th>created</th>\n",
       "      <th>id_str</th>\n",
       "      <th>text</th>\n",
       "      <th>user_id</th>\n",
       "      <th>screen_name</th>\n",
       "      <th>location</th>\n",
       "      <th>followers_count</th>\n",
       "      <th>user_favourites_count</th>\n",
       "      <th>time_zone</th>\n",
       "      <th>geo_enabled</th>\n",
       "      <th>verified</th>\n",
       "      <th>status_count</th>\n",
       "      <th>geo</th>\n",
       "      <th>coords</th>\n",
       "      <th>retweet_count</th>\n",
       "      <th>tweet_favourite_count</th>\n",
       "      <th>Subjectivity</th>\n",
       "      <th>Polarity</th>\n",
       "      <th>Sentiment</th>\n",
       "    </tr>\n",
       "  </thead>\n",
       "  <tbody>\n",
       "    <tr>\n",
       "      <th>897</th>\n",
       "      <td>2021-03-12 00:46:03</td>\n",
       "      <td>1370174210337873921</td>\n",
       "      <td>finnygo: BREAKING: POTUS will announce during ...</td>\n",
       "      <td>23380149</td>\n",
       "      <td>robertropars</td>\n",
       "      <td>Chicagoland, IL</td>\n",
       "      <td>6889</td>\n",
       "      <td>27765</td>\n",
       "      <td>None</td>\n",
       "      <td>False</td>\n",
       "      <td>False</td>\n",
       "      <td>217889</td>\n",
       "      <td>None</td>\n",
       "      <td>None</td>\n",
       "      <td>76</td>\n",
       "      <td>0</td>\n",
       "      <td>0.333333</td>\n",
       "      <td>0.250000</td>\n",
       "      <td>positive</td>\n",
       "    </tr>\n",
       "    <tr>\n",
       "      <th>898</th>\n",
       "      <td>2021-03-12 00:46:02</td>\n",
       "      <td>1370174210006466560</td>\n",
       "      <td>JoJoFromJerz: The former guy wants us to thank...</td>\n",
       "      <td>342808711</td>\n",
       "      <td>mikejzimmer</td>\n",
       "      <td>Minot, N.D.</td>\n",
       "      <td>1001</td>\n",
       "      <td>9992</td>\n",
       "      <td>None</td>\n",
       "      <td>False</td>\n",
       "      <td>False</td>\n",
       "      <td>19915</td>\n",
       "      <td>None</td>\n",
       "      <td>None</td>\n",
       "      <td>127</td>\n",
       "      <td>0</td>\n",
       "      <td>0.066667</td>\n",
       "      <td>0.133333</td>\n",
       "      <td>positive</td>\n",
       "    </tr>\n",
       "    <tr>\n",
       "      <th>899</th>\n",
       "      <td>2021-03-12 00:46:02</td>\n",
       "      <td>1370174209985376258</td>\n",
       "      <td>noahweiland JenniferJJacobs RebeccaDRobbins Pe...</td>\n",
       "      <td>1266510764564557825</td>\n",
       "      <td>NinaWar13079067</td>\n",
       "      <td></td>\n",
       "      <td>488</td>\n",
       "      <td>31890</td>\n",
       "      <td>None</td>\n",
       "      <td>False</td>\n",
       "      <td>False</td>\n",
       "      <td>7362</td>\n",
       "      <td>None</td>\n",
       "      <td>None</td>\n",
       "      <td>3</td>\n",
       "      <td>8</td>\n",
       "      <td>0.000000</td>\n",
       "      <td>0.000000</td>\n",
       "      <td>neutral</td>\n",
       "    </tr>\n",
       "  </tbody>\n",
       "</table>\n",
       "</div>"
      ],
      "text/plain": [
       "                created               id_str  \\\n",
       "897 2021-03-12 00:46:03  1370174210337873921   \n",
       "898 2021-03-12 00:46:02  1370174210006466560   \n",
       "899 2021-03-12 00:46:02  1370174209985376258   \n",
       "\n",
       "                                                  text              user_id  \\\n",
       "897  finnygo: BREAKING: POTUS will announce during ...             23380149   \n",
       "898  JoJoFromJerz: The former guy wants us to thank...            342808711   \n",
       "899  noahweiland JenniferJJacobs RebeccaDRobbins Pe...  1266510764564557825   \n",
       "\n",
       "         screen_name         location  followers_count  user_favourites_count  \\\n",
       "897     robertropars  Chicagoland, IL             6889                  27765   \n",
       "898      mikejzimmer      Minot, N.D.             1001                   9992   \n",
       "899  NinaWar13079067                               488                  31890   \n",
       "\n",
       "    time_zone  geo_enabled  verified  status_count   geo coords  \\\n",
       "897      None        False     False        217889  None   None   \n",
       "898      None        False     False         19915  None   None   \n",
       "899      None        False     False          7362  None   None   \n",
       "\n",
       "     retweet_count  tweet_favourite_count  Subjectivity  Polarity Sentiment  \n",
       "897             76                      0      0.333333  0.250000  positive  \n",
       "898            127                      0      0.066667  0.133333  positive  \n",
       "899              3                      8      0.000000  0.000000   neutral  "
      ]
     },
     "execution_count": 29,
     "metadata": {},
     "output_type": "execute_result"
    }
   ],
   "source": [
    "tweets_df = RateTweets(tweets_df)\n",
    "tweets_df.to_csv(output_csv, index=False, encoding='UTF-8')\n",
    "tweets_df.tail(3)"
   ]
  },
  {
   "cell_type": "markdown",
   "metadata": {},
   "source": [
    "# SQLAlchemy\n",
    "### Connecting to a certain other host "
   ]
  },
  {
   "cell_type": "code",
   "execution_count": 5,
   "metadata": {},
   "outputs": [],
   "source": [
    "from sqlalchemy.ext.automap import automap_base\n",
    "from sqlalchemy.orm import Session\n",
    "from sqlalchemy import create_engine"
   ]
  },
  {
   "cell_type": "code",
   "execution_count": 12,
   "metadata": {},
   "outputs": [],
   "source": [
    "engine = create_engine(conn, echo=False)"
   ]
  },
  {
   "cell_type": "code",
   "execution_count": 13,
   "metadata": {},
   "outputs": [],
   "source": [
    "Base = automap_base()\n",
    "Base.prepare(engine, reflect=True)  "
   ]
  },
  {
   "cell_type": "code",
   "execution_count": 14,
   "metadata": {},
   "outputs": [
    {
     "data": {
      "text/plain": [
       "['tw2']"
      ]
     },
     "execution_count": 14,
     "metadata": {},
     "output_type": "execute_result"
    }
   ],
   "source": [
    "# Test connection\n",
    "# it works!!!\n",
    "# not anymore\n",
    "# kill kernal if conn is wrong\n",
    "\n",
    "Base.classes.keys()"
   ]
  },
  {
   "cell_type": "markdown",
   "metadata": {},
   "source": [
    "### Don't run yet\n",
    "Clean up your tweets! "
   ]
  },
  {
   "cell_type": "code",
   "execution_count": 9,
   "metadata": {},
   "outputs": [
    {
     "name": "stdout",
     "output_type": "stream",
     "text": [
      "added!\n"
     ]
    }
   ],
   "source": [
    "_df = pd.read_csv('csvs/tw2.csv')\n",
    "_df.to_sql(name='tw2', con=engine, if_exists='append', index=True)\n",
    "print('added!')"
   ]
  },
  {
   "cell_type": "code",
   "execution_count": null,
   "metadata": {},
   "outputs": [],
   "source": [
    "# session things\n",
    "session = Session(engine)\n",
    "session.close()\n"
   ]
  }
 ],
 "metadata": {
  "kernelspec": {
   "display_name": "Python 3",
   "language": "python",
   "name": "python3"
  },
  "language_info": {
   "codemirror_mode": {
    "name": "ipython",
    "version": 3
   },
   "file_extension": ".py",
   "mimetype": "text/x-python",
   "name": "python",
   "nbconvert_exporter": "python",
   "pygments_lexer": "ipython3",
   "version": "3.8.3"
  }
 },
 "nbformat": 4,
 "nbformat_minor": 4
}
